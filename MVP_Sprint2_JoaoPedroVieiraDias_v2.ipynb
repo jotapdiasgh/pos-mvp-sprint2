{
  "nbformat": 4,
  "nbformat_minor": 0,
  "metadata": {
    "colab": {
      "provenance": [],
      "collapsed_sections": [
        "YW_JS-EEBFaR",
        "DObGnkf0bJBh",
        "xPN_tkVvh9AU",
        "O75PaTb8Hu-z",
        "XcHpQ9s_B4n1",
        "5kuan1F5EA8J",
        "TxvLGlPj7MkU",
        "4T_Vew9tDBU-",
        "ZAMyfHK5QE2p",
        "pwmgRU62h6Gj",
        "HxjXi7Yj3Rsn",
        "9H5ZBYACBddo",
        "GcM47VX2D-mK",
        "yd6XtpykHfHZ",
        "yeg-JlffJ-nW",
        "J5ay96k8O7V0",
        "Y4c4JF7cTcAp",
        "iyeX_6tfZKRC",
        "TS1gZbiBJGQ7",
        "PII7Mh3YwREz",
        "BodIFWbDLxPM",
        "JPK9llB1s0l5",
        "LNvuJaVkxnhA",
        "XpBpCUqkuInu",
        "zxWMQGQkeW5v",
        "rHRDDV6avREL",
        "0rflcXAU88G2",
        "S7kjmpSqTf8X",
        "YxXR2N-1fVHS",
        "1UzgMdYYjgU3",
        "HWL5dLGLhP_b",
        "6rS_mwNKJ9pZ",
        "cnZ_gnHtNP7Q",
        "h5YcD9R3sI86",
        "DDsvi3CaNnWY",
        "aH70Ov4X6hnx",
        "HfN7oND0etMT",
        "yGmyGMX0n42T",
        "KqeipaJMuPoe",
        "-IlqM9Ge_AOl",
        "SrM2rRXvlZYv",
        "r3k_KKLOsXqP",
        "PJXMNvYL2t_k",
        "DK2qWnzht5HF",
        "fyuyFj66IQaq",
        "VYIfXuEnwbSt",
        "EqfYQPTLr-e5",
        "aW6NmT1qCi7y",
        "8GVg6Sl1C40Y",
        "QAhY3qoEr7aw"
      ],
      "include_colab_link": true
    },
    "kernelspec": {
      "name": "python3",
      "display_name": "Python 3"
    },
    "language_info": {
      "name": "python"
    }
  },
  "cells": [
    {
      "cell_type": "markdown",
      "metadata": {
        "id": "view-in-github",
        "colab_type": "text"
      },
      "source": [
        "<a href=\"https://colab.research.google.com/github/jotapdiasgh/pos-mvp-sprint2/blob/main/MVP_Sprint2_JoaoPedroVieiraDias_v2.ipynb\" target=\"_parent\"><img src=\"https://colab.research.google.com/assets/colab-badge.svg\" alt=\"Open In Colab\"/></a>"
      ]
    },
    {
      "cell_type": "markdown",
      "source": [
        "# MVP - **Machine Learning & Analytics**\n",
        "\n",
        "**Autor:** João Pedro Vieira Dias\n",
        "\n",
        "**Data:** 26/09/2025\n",
        "\n",
        "**Matrícula:** 4052025000227\n",
        "\n",
        "**Dataset:** [Bank Marketing](https://archive.ics.uci.edu/dataset/222/bank+marketing)"
      ],
      "metadata": {
        "id": "cmYX3PLx58Jg"
      }
    },
    {
      "cell_type": "markdown",
      "source": [
        "# ❗ DISCLAIMER ❗ INFORMAÇÃO IMPORTANTE PARA A CORREÇÃO DO MVP - SPRINT 2\n",
        "\n",
        "Após validação da possibilidade no Discord, decidi continuar com o mesmo dataset e a parte de Análise Exploratória de Dados do projeto da Sprint 1 a fim de conseguir construir, do início ao fim, meu primeiro projeto de **ML** com **Aprendizado Supervisionado** para responder a um problema de **Classificação**."
      ],
      "metadata": {
        "id": "o_a9cwD03fgp"
      }
    },
    {
      "cell_type": "markdown",
      "source": [
        "# 1. Escopo, objetivo e definição do problema\n",
        "\n",
        "Essa seção traz as disposições iniciais sobre o dataset **Bank Marketing**, que compila informações acerca de uma campanha de marketing, feita por um banco português com seus clientes, a fim de convencê-los a aderir a modalidade de depósito a prazo no âmbito de investimentos. Ele foi escolhido por trazer informações reais, incluir dados socioeconômicos (envolve parte do meu emprego atual) e permitir a aplicação de vários dos conceitos estudados nas Sprints 1 e 2."
      ],
      "metadata": {
        "id": "YW_JS-EEBFaR"
      }
    },
    {
      "cell_type": "markdown",
      "source": [
        "## 1.1. Contexto do Problema e Tipo de Tarefa\n",
        "\n",
        "Por possuir um conjunto de informações de entrada (socioeconômicas e relacionadas à forma da campanha) e de saída (se o cliente aderiu ou não ao investimento > dimensão *target* com valor binário *sim* ou *não*), nota-se que o presente dataset apresente um problema de **Classificação** com possibilidade de criação de um modelo de **ML** com **Aprendizado Supervisionado**."
      ],
      "metadata": {
        "id": "x1zNNZt6BfdF"
      }
    },
    {
      "cell_type": "markdown",
      "source": [
        "## 1.2. Área de aplicação\n",
        "\n",
        "O insumo para a construção do presente modelo de ML provém de um dataset em formato .csv, previamente selecionado e carregado no Github; dessa forma, considerando a fonte de dados estruturada em linhas e colunas, trata-se de uma aplicação via **Dados Tabulares**."
      ],
      "metadata": {
        "id": "JJxAZ4EXAadl"
      }
    },
    {
      "cell_type": "markdown",
      "source": [
        "## 1.3. Valor para o negócio\n",
        "\n",
        "Analisar o dataset desse projeto para a construção de um modelo minimamente preditivo enseja importantes ganhos para a instituição. Considerando que esse tipo de atividade é comum e consideravelmente corriqueira para uma instituição financeira; também, considerando que a predição representa ganhos em termos de eficiência e padronização da atividade:\n",
        "\n",
        "\n",
        "*   Há redução de recursos necessários de várias naturezas: pessoas, tempo, infraestrutura;\n",
        "*   Sendo essa uma atividade que impacta diretamente no core do negócio (funding para operações de crédito, que geralmente representa 60% a 70% das receitas de instituições financeiras), há maior conversão e conhecimento de quais públicos são essenciais para manutenção do negócio ¹;\n",
        "*   Com menos recursos direcionados para essa atividade, a instituição pode direcionar esses mesmos recursos a outras áreas que necessitem de maior atenção;\n",
        "*   A padronização das condições para maior conversão nessas campanhas representam uso mais eficaz das pessoas envolvidas ou até substituição por robôs, com ganho potencial ainda maior em termos de escalabilidade das ações desse tipo;\n",
        "*   Também há possibilidade de padronização de atuação em outras campanhas de marketing (ex: campanhas de produtos agregados para construção de fidelidade, como seguros e consórcios)\n",
        "\n",
        "*¹ Informações provenientes de fontes como: relatórios de supervisão e estatística do Banco de Portugal (BdP), relatórios e análises setoriais da Associação Portuguesa de Bancos (APB), análises de empresas de Rating e Consultoria e relatórios individuais anuais de instituições financeiras*"
      ],
      "metadata": {
        "id": "yQAbfjGdCOc8"
      }
    },
    {
      "cell_type": "markdown",
      "source": [
        "# 2. Importação das Bibliotecas e Configurações para Reprodutibilidade\n",
        "\n",
        "Essa seção consolida todas as importações de bibliotecas necessárias para o desenvolvimento do projeto, desde a análise e visualização dos dados originais, aos passos de pré-processamento dos dados, construção e testagem para coleta de resultados do modelo; ademais, a setagem das seeds globais e a impressão de informações úteis à documentação e registros pertinentes."
      ],
      "metadata": {
        "id": "DObGnkf0bJBh"
      }
    },
    {
      "cell_type": "code",
      "source": [
        "# importações sistêmicas\n",
        "import warnings\n",
        "import random, sys, time\n",
        "\n",
        "# importações basilares do código e voltadas para artifícios visuais\n",
        "# (principalmente na seção de AED)\n",
        "import pandas as pd\n",
        "import matplotlib.pyplot as plt\n",
        "import seaborn as sns\n",
        "import numpy as np\n",
        "\n",
        "# importação para divisão do dataset entre treino e teste\n",
        "from sklearn.model_selection import train_test_split\n",
        "\n",
        "# importações de métricas que serão utilizadas para avaliar os modelos do\n",
        "# projeto\n",
        "from sklearn.metrics import (f1_score, roc_auc_score, precision_score,\n",
        "                             recall_score, balanced_accuracy_score, confusion_matrix, classification_report)\n",
        "\n",
        "# importações para construção de pipelines para pré-processamento\n",
        "from sklearn.pipeline import Pipeline\n",
        "from sklearn.preprocessing import OneHotEncoder, OrdinalEncoder, StandardScaler, LabelEncoder\n",
        "from sklearn.impute import SimpleImputer\n",
        "from sklearn.compose import ColumnTransformer\n",
        "\n",
        "# importação para construção de baseline\n",
        "from sklearn.dummy import DummyClassifier\n",
        "\n",
        "# importações para construção de pipelines dos modelos com otimizações possíveis\n",
        "from lightgbm import LGBMClassifier\n",
        "from xgboost import XGBClassifier\n",
        "\n",
        "# importações para otimização de hiperparâmetros dos algoritmos de ML\n",
        "from lightgbm import early_stopping, log_evaluation\n",
        "from sklearn.model_selection import GridSearchCV, StratifiedKFold\n",
        "\n",
        "# apenas uma alteração em avisos para melhor legibilidade de determinadas saídas\n",
        "warnings.filterwarnings(\"ignore\")\n",
        "\n",
        "# setando o número global de seeds para garantia de reprodutibilidade em diferentes execuções do código\n",
        "# a escolha de 42 seeds foi aleatória (muito comum como referência)\n",
        "SEED = 42\n",
        "np.random.seed(SEED)\n",
        "random.seed(SEED)\n",
        "\n",
        "# boa prática para impressão de informações úteis à documentação e registros pertinentes\n",
        "print(\"Versão Python:\", sys.version.split()[0])\n",
        "print(\"Seed global:\", SEED)"
      ],
      "metadata": {
        "id": "tCohWn2jbkDB"
      },
      "execution_count": null,
      "outputs": []
    },
    {
      "cell_type": "markdown",
      "source": [
        "# 3. Funções\n",
        "\n",
        "Para melhor organização do projeto e coerência nas etapas de modelagem posteriores, utilizo essa seção para estabelecer uma única métrica de comparação dos modelos otimizados com o baseline."
      ],
      "metadata": {
        "id": "xPN_tkVvh9AU"
      }
    },
    {
      "cell_type": "code",
      "source": [
        "# função para comparar algumas métricas entre os modelos\n",
        "# f1_score: como métrica principal de avaliação em função da natureza do dataset\n",
        "# (desbalanceado), balanceia falsos positivos e falsos negativos\n",
        "# auc_roc_score: define quão bem os modelos distinguem 'sim' e 'não', mas pode\n",
        "# ser otimista demais para esse tipo de dataset\n",
        "# precision: determina quantos 'sim' foram preditos corretamente; bom para\n",
        "# orçamentos enxutos ou custo de contato alto (não descrito nesse problema)\n",
        "# recall: valida quantos 'sim' foram preditos do total possível; bom para\n",
        "# orçamentos maiores ou custo de contato baixo\n",
        "# balanced_accuracy: balanceia com pesos ponderados o desbalanceamento presente\n",
        "# nesse dataset e ajuda a determinar melhor o desempenho dos modelos\n",
        "# em conjunto com f1)\n",
        "# accuracy:\n",
        "def comparar_modelos(lista_modelos, X_test, y_test):\n",
        "\n",
        "    print(\"======= COMPARAÇÃO COMPLETA DE MODELOS =======\")\n",
        "    print(\"=\" * 46)\n",
        "\n",
        "    resultados = {}\n",
        "\n",
        "    for nome, modelo in lista_modelos.items():\n",
        "        try:\n",
        "            # etapa de previsões\n",
        "            y_pred = modelo.predict(X_test)\n",
        "            y_proba = modelo.predict_proba(X_test)[:, 1]\n",
        "\n",
        "            # definição das métricas\n",
        "            metricas = {\n",
        "                'f1': f1_score(y_test, y_pred),\n",
        "                'auc_roc': roc_auc_score(y_test, y_proba),\n",
        "                'precision': precision_score(y_test, y_pred, zero_division=0),\n",
        "                'recall': recall_score(y_test, y_pred, zero_division=0),\n",
        "                'balanced_accuracy': balanced_accuracy_score(y_test, y_pred)\n",
        "            }\n",
        "\n",
        "            resultados[nome] = metricas\n",
        "\n",
        "            # print das métricas para cada modelo\n",
        "            print(f\"\\n{nome}\")\n",
        "            print(\"-\" * 30)\n",
        "            for metric, value in metricas.items():\n",
        "                print(f\"{metric:<18}: {value:.4f}\")\n",
        "\n",
        "        # caso algum modelo encontre problemas no cálculo das métricas\n",
        "        except Exception as e:\n",
        "            print(f\"❌ Erro no modelo {nome}: {e}\")\n",
        "            resultados[nome] = None\n",
        "\n",
        "    # ranking por F1-Score (métrica principal)\n",
        "    print(\"\\n\" + \"=\" * 46)\n",
        "    print(\"========== 🏆 RANKING POR F1-SCORE ==========\")\n",
        "    print(\"=\" * 46)\n",
        "\n",
        "    modelos_validos = {k: v for k, v in resultados.items() if v is not None}\n",
        "    ranking = sorted(modelos_validos.items(), key=lambda x: x[1]['f1'], reverse=True)\n",
        "\n",
        "    for i, (nome, metricas) in enumerate(ranking, 1):\n",
        "        print(f\"{i}º {nome:<15}: F1 = {metricas['f1']:.4f}\")\n",
        "\n",
        "    return resultados"
      ],
      "metadata": {
        "id": "PwpdkpH-h8q_"
      },
      "execution_count": null,
      "outputs": []
    },
    {
      "cell_type": "markdown",
      "source": [
        "# 4. Carga de dados\n",
        "\n",
        "Essa seção vai carregar os dados do dataset original"
      ],
      "metadata": {
        "id": "O75PaTb8Hu-z"
      }
    },
    {
      "cell_type": "code",
      "source": [
        "# carregamento do dataset via url raw do github\n",
        "url = 'https://raw.githubusercontent.com/jotapdiasgh/pos-mvp-sprint2/refs/heads/main/bank-full.csv'"
      ],
      "metadata": {
        "id": "BIokzI3xb8_t"
      },
      "execution_count": null,
      "outputs": []
    },
    {
      "cell_type": "code",
      "source": [
        "# guardando o dataset em um dataframe com a devida formatação para melhor legibilidade\n",
        "df = pd.read_csv(url, sep=';')"
      ],
      "metadata": {
        "id": "RCPbhofsE59F"
      },
      "execution_count": null,
      "outputs": []
    },
    {
      "cell_type": "markdown",
      "source": [
        "## 4.1. Atributos do Dataset\n",
        "\n",
        "O dataset Bank Marketing contém 45.211 amostras dispostas em 17 dimensões, a saber:\n",
        "\n",
        "- ***age*** - idade do cliente\n",
        "- ***job*** - emprego do cliente\n",
        "- ***marital*** - estado civil do cliente\n",
        "- ***education*** - escolaridade do cliente\n",
        "- ***default*** - presença de inadimplência em crédito do cliente\n",
        "- ***balance*** - salário médio anual do cliente\n",
        "- ***housing*** - presença de financiamento habitacional\n",
        "- ***loan*** - presença de empréstimo pessoal\n",
        "- ***contact*** - tipo de contato com o cliente\n",
        "- ***day*** - dia do mês do último contato com o cliente\n",
        "- ***month*** - mês do último contato com o cliente\n",
        "- ***duration*** - duração em segundos do último contato com o cliente\n",
        "- ***campaign*** - número de contatos feitos com o cliente\n",
        "- ***pdays*** - número de dias desde o último contato com o cliente na última campanha\n",
        "- ***previous*** - número de contatos feitos com o cliente antes da campanha atual\n",
        "- ***poutcome*** - resultado da última campanha\n",
        "- ***y*** - resultado da campanha atual"
      ],
      "metadata": {
        "id": "rIC-0GvmVv1I"
      }
    },
    {
      "cell_type": "markdown",
      "source": [
        "# 5. Análise Exploratória de Dados\n",
        "\n",
        "Essa seção abarca técnicas referentes à análise exploratória e visualização de dados sobre o dataset Bank Marketing, de modo a compreender como suas variáveis estão distribuídas, como se relacionam entre si e quais são as características mais importantes para suportar a etapa posterior de pré-processamento dos dados."
      ],
      "metadata": {
        "id": "XcHpQ9s_B4n1"
      }
    },
    {
      "cell_type": "markdown",
      "source": [
        "## 5.1. Total e tipo das instâncias\n",
        "\n",
        "O dataset Bank Marketing possui 45.211 instâncias (observações). Das 17 dimensões (colunas), 7 são do tipo numérico (integer) e 10 são do tipo categórico."
      ],
      "metadata": {
        "id": "5kuan1F5EA8J"
      }
    },
    {
      "cell_type": "code",
      "source": [
        "# informações de identificação do dataset\n",
        "print(f\"O dataset possui {df.shape[0]} instâncias e {df.shape[1]} dimensões\")\n",
        "print(\"\\nTipos de dados por dimensão:\\n\")\n",
        "print(df.info())"
      ],
      "metadata": {
        "id": "3asH5qmbHKVe"
      },
      "execution_count": null,
      "outputs": []
    },
    {
      "cell_type": "markdown",
      "source": [
        "## 5.2. Primeiras linhas do dataset"
      ],
      "metadata": {
        "id": "TxvLGlPj7MkU"
      }
    },
    {
      "cell_type": "code",
      "source": [
        "# primeiras linhas do dataset\n",
        "df.head()"
      ],
      "metadata": {
        "id": "dvcJmnB27M-k"
      },
      "execution_count": null,
      "outputs": []
    },
    {
      "cell_type": "markdown",
      "source": [
        "Já nos primeiros dados conseguimos observar que podem faltar informações sobre o tipo de contato (contact) e se houve ou não conversão na última campanha (poutcome); ademais, a validação dos dias desde o último contato na campanha anterior (pdays) pode prejudicar algumas análises mais a frente."
      ],
      "metadata": {
        "id": "avyKxtF97NhP"
      }
    },
    {
      "cell_type": "markdown",
      "source": [
        "## 5.3. Estatísticas descritivas\n",
        "\n",
        "Usando estatística descritiva, observamos as principais características de cada dimensão para uma análise inicial"
      ],
      "metadata": {
        "id": "4T_Vew9tDBU-"
      }
    },
    {
      "cell_type": "code",
      "source": [
        "# apresentação das estatísticas descritivas do dataset\n",
        "print(\"\\nEstatísticas descritivas:\")\n",
        "df.describe(include='all')"
      ],
      "metadata": {
        "id": "yEn898xfDAXC"
      },
      "execution_count": null,
      "outputs": []
    },
    {
      "cell_type": "markdown",
      "source": [
        "**Dimensões numéricas**\n",
        "- Os clientes contatados possuem uma média de 41 anos (mais novo = 18 / mais velho = 95), e a maior parte desses clientes tem idades variando entre 31 e 51 anos\n",
        "\n",
        "- Os clientes contatados possuem uma média de renda anual média de 1.362 € (menor = -8.019 € / maior = 102.127 €), e a maior parte desses clientes tem renda anual média entre -1.682 € e 4.406 €\n",
        "\n",
        "- Os clientes foram contatados majoritariamente no dia 16, e a maior parte desses clientes recebeu contatos entre os dias 8 e 24\n",
        "\n",
        "- Os clientes contatados permaneceram em ligação, em média, por 258 segundos\n",
        "(menor duração = 0 / maior duração = 4.918), e a maior parte desses clientes ficaram em ligação entre 1 e 515 segundos > 0 indica que as ligações não foram sequer completadas\n",
        "\n",
        "- Os clientes tiveram 3 contatos em média (menor quantidade = 1 / maior quantidade = 63), e a maior parte desses clientes recebeu entre 0 e 6 contatos > 0 indica que as ligações não foram sequer completadas\n",
        "\n",
        "- Os clientes ficaram sem contato desde a última campanha por 40 dias, em média (menor intervalo = -1 / maior intervalo = 871), e a maior parte desses clientes ficou sem contato entre -60 e 140 dias > os números negativos indicam que não foram contatados na última campanha\n",
        "\n",
        "- Os clientes tiveram, antes da campanha em análise, 1 contato em média (menor quantidade = 0 / maior quantidade = 275), e a maior parte desses clientes recebeu entre -1 e 3 contatos > 0 e números negativos indicam que não houve contato registrado\n",
        "\n",
        "**Dimensões categóricas**\n",
        "- Os clientes contatados estão empregados, em sua maioria, em cargos operacionais (blue-collar): são 9.732 instâncias\n",
        "\n",
        "- Os clientes contatados são, em sua maioria, casados: são 27.214 instâncias\n",
        "\n",
        "- Os clientes contatados possuem, em sua maioria, escolaridade secundária (até os 18 anos, semelhante ao ensino médio no Brasil): são 23.202 instâncias\n",
        "\n",
        "- Os clientes contatados estão, em sua maioria, com inadimplência em créditos: são 44.396 instâncias\n",
        "\n",
        "- Os clientes contatados possuem, em sua maioria, financiamento habitacional: são 25.130 instâncias\n",
        "\n",
        "- Os clientes contatados possuem, em sua maioria, empréstimo pessoal: são 37.967 instâncias\n",
        "\n",
        "- Os clientes contatados foram, em sua maioria, contatados de alguma forma: são 29.285 instâncias\n",
        "\n",
        "- Os clientes foram contatados, em sua maioria, em maio: são 13.766 instâncias\n",
        "\n",
        "- Dos clientes contatados, em sua maioria, não há informação de conversão com sucesso ou não na última campanha: são 36.959 instâncias\n",
        "\n",
        "- Dos clientes contatados, em sua maioria, não houve conversão com sucesso: são 39.922 instâncias"
      ],
      "metadata": {
        "id": "ZyLAiJPNir6Q"
      }
    },
    {
      "cell_type": "markdown",
      "source": [
        "### 5.3.1. Variáveis qualitativas\n",
        "\n",
        "Como identificado que a conversão da campanha é muito baixa (a instância \"no\" da dimensão \"y\" aparece 39.992 vezes > 88,46% do dataset), é importante mapear inicialmente como as variáveis qualitativas estão distribuídas nesse conjunto em função da conversão positiva ou negativa."
      ],
      "metadata": {
        "id": "ZAMyfHK5QE2p"
      }
    },
    {
      "cell_type": "markdown",
      "source": [
        "#### 5.3.1.1. Análise - tipo de emprego"
      ],
      "metadata": {
        "id": "pwmgRU62h6Gj"
      }
    },
    {
      "cell_type": "code",
      "source": [
        "# ----- primeiro gráfico, sem relação com a variável target 'y'\n",
        "# área para plotar o gráfico\n",
        "plt.figure(figsize=(12,6))\n",
        "\n",
        "# seleção da variável e configuração da plotagem\n",
        "ax = df['job'].value_counts().sort_values(ascending=True).plot(kind='barh', color='#FFAE80')\n",
        "\n",
        "# adição de rótulo nos dados\n",
        "for container in ax.containers:\n",
        "    ax.bar_label(container, label_type='edge', padding=3, color='#212738')\n",
        "\n",
        "# configuração dos aspectos do gráfico\n",
        "ax.set_title('Quantidade de clientes por tipo de emprego')\n",
        "ax.set_ylabel('Tipo de emprego')\n",
        "ax.set_xlabel('Quantidade de clientes')\n",
        "\n",
        "# visualização da plotagem\n",
        "plt.show()"
      ],
      "metadata": {
        "id": "acR9rlg9RkZd"
      },
      "execution_count": null,
      "outputs": []
    },
    {
      "cell_type": "markdown",
      "source": [
        "Somente empregos operacionais (blue-collar) representam 21,53% do dataset. Se somarmos estes aos empregos de gestão (management) e técnicos (technician), teremos 59,25% do dataset."
      ],
      "metadata": {
        "id": "s0Pa1xt7WlQ5"
      }
    },
    {
      "cell_type": "code",
      "source": [
        "# ----- segundo gráfico, relacionando com a variável target 'y'\n",
        "# área para plotar o gráfico\n",
        "fig, ax = plt.subplots(figsize=(12, 6))\n",
        "\n",
        "# agrupamento de dados por 'job' e 'y'\n",
        "contagem_job_y = df.groupby(['job', 'y']).size().unstack()\n",
        "\n",
        "# ordenação pela conversão predominante\n",
        "contagem_job_y = contagem_job_y.sort_values('no')\n",
        "\n",
        "# seleção do agrupamento e configuração da plotagem\n",
        "contagem_job_y.plot(kind='barh', stacked=True, color=['#F17300', '#3E7CB1'], ax=ax)\n",
        "\n",
        "# adição de rótulo nos dados e melhor ajuste\n",
        "for i, container in enumerate(ax.containers):\n",
        "    if i == 0:  # Primeira categoria (base)\n",
        "        ax.bar_label(container,\n",
        "                    label_type='center',\n",
        "                    fontsize=8,\n",
        "                    color='#212738')\n",
        "    else:  # Segunda categoria (topo)\n",
        "        ax.bar_label(container,\n",
        "                    label_type='edge',\n",
        "                    fontsize=8,\n",
        "                    color='#212738')\n",
        "\n",
        "# configuração dos aspectos do gráfico\n",
        "plt.title('Quantidade de clientes por tipo de emprego x conversão à campanha')\n",
        "plt.xlabel('Quantidade de clientes')\n",
        "plt.ylabel('Tipo de emprego')\n",
        "plt.legend(title='Conversão à campanha')\n",
        "\n",
        "# visualização da plotagem\n",
        "plt.show()"
      ],
      "metadata": {
        "id": "bUkiPBiNlBDZ"
      },
      "execution_count": null,
      "outputs": []
    },
    {
      "cell_type": "markdown",
      "source": [
        "Quando relacionado à variável target 'y', vemos que há certa proporcionalidade em relação ao número total por tipo de emprego, porém, com algum distanciamento: vai de 71,32% do total (student > estudantes) a 92,73% do total (blue-collar > operacionais)"
      ],
      "metadata": {
        "id": "Tsrv59iX1Gz-"
      }
    },
    {
      "cell_type": "markdown",
      "source": [
        "#### 5.3.1.2. Análise - estado civil"
      ],
      "metadata": {
        "id": "HxjXi7Yj3Rsn"
      }
    },
    {
      "cell_type": "code",
      "source": [
        "# ----- primeiro gráfico, sem relação com a variável target 'y'\n",
        "# área para plotar o gráfico\n",
        "plt.figure(figsize=(14,6))\n",
        "\n",
        "# seleção da variável e configuração da plotagem\n",
        "ax = df['marital'].value_counts().sort_values(ascending=True).plot(kind='barh', color='#FFAE80')\n",
        "\n",
        "# adição de rótulo nos dados\n",
        "for container in ax.containers:\n",
        "    ax.bar_label(container, label_type='edge', padding=3, color='#212738')\n",
        "\n",
        "# configuração dos aspectos do gráfico\n",
        "ax.set_title('Quantidade de clientes por estado civil')\n",
        "ax.set_ylabel('Estado civil')\n",
        "ax.set_xlabel('Quantidade de clientes')\n",
        "\n",
        "# visualização da plotagem\n",
        "plt.show()"
      ],
      "metadata": {
        "id": "8HXNi0f496lm"
      },
      "execution_count": null,
      "outputs": []
    },
    {
      "cell_type": "markdown",
      "source": [
        "Somente os clientes casados (married) respondem por 60,19% do dataset."
      ],
      "metadata": {
        "id": "nibBiQjV-pfM"
      }
    },
    {
      "cell_type": "code",
      "source": [
        "# ----- segundo gráfico, relacionando com a variável target 'y'\n",
        "# área para plotar o gráfico\n",
        "fig, ax = plt.subplots(figsize=(16, 6))\n",
        "\n",
        "# agrupamento de dados por 'job' e 'y'\n",
        "contagem_job_y = df.groupby(['marital', 'y']).size().unstack()\n",
        "\n",
        "# ordenação pela conversão predominante\n",
        "contagem_job_y = contagem_job_y.sort_values('no')\n",
        "\n",
        "# seleção do agrupamento e configuração da plotagem\n",
        "contagem_job_y.plot(kind='barh', stacked=True, color=['#F17300', '#3E7CB1'], ax=ax)\n",
        "\n",
        "# adição de rótulo nos dados e melhor ajuste\n",
        "for i, container in enumerate(ax.containers):\n",
        "    if i == 0:  # Primeira categoria (base)\n",
        "        ax.bar_label(container,\n",
        "                    label_type='center',\n",
        "                    color='#212738')\n",
        "    else:  # Segunda categoria (topo)\n",
        "        ax.bar_label(container,\n",
        "                    label_type='edge',\n",
        "                    color='#212738')\n",
        "\n",
        "# configuração dos aspectos do gráfico\n",
        "plt.title('Quantidade de clientes por estado civil x conversão à campanha')\n",
        "plt.xlabel('Quantidade de clientes')\n",
        "plt.ylabel('Estado civil')\n",
        "plt.legend(title='Conversão à campanha')\n",
        "\n",
        "# visualização da plotagem\n",
        "plt.show()"
      ],
      "metadata": {
        "id": "sra8qEGD-ZG3"
      },
      "execution_count": null,
      "outputs": []
    },
    {
      "cell_type": "markdown",
      "source": [
        "Quando relacionado à variável target 'y', também vemos que há certa proporcionalidade em relação ao número total por estado civil: vai de 85,05% do total (single > solteiros) a 89,88% do total (married > casados)"
      ],
      "metadata": {
        "id": "ZBqNzeoP-GpL"
      }
    },
    {
      "cell_type": "markdown",
      "source": [
        "#### 5.3.1.3. Análise - escolaridade"
      ],
      "metadata": {
        "id": "9H5ZBYACBddo"
      }
    },
    {
      "cell_type": "code",
      "source": [
        "# ----- primeiro gráfico, sem relação com a variável target 'y'\n",
        "# área para plotar o gráfico\n",
        "plt.figure(figsize=(14,6))\n",
        "\n",
        "# seleção da variável e configuração da plotagem\n",
        "ax = df['education'].value_counts().sort_values(ascending=True).plot(kind='barh', color='#FFAE80')\n",
        "\n",
        "# adição de rótulo nos dados\n",
        "for container in ax.containers:\n",
        "    ax.bar_label(container, label_type='edge', padding=3, color='#212738')\n",
        "\n",
        "# configuração dos aspectos do gráfico\n",
        "ax.set_title('Quantidade de clientes por escolaridade')\n",
        "ax.set_ylabel('Escolaridade')\n",
        "ax.set_xlabel('Quantidade de clientes')\n",
        "\n",
        "# visualização da plotagem\n",
        "plt.show()"
      ],
      "metadata": {
        "id": "_MfWXbqxBhqS"
      },
      "execution_count": null,
      "outputs": []
    },
    {
      "cell_type": "markdown",
      "source": [
        "Somente os clientes secundaristas (secondary > similar ao ensino médio no Brasil) respondem por 51,32% do dataset."
      ],
      "metadata": {
        "id": "gSq-BkfjBqIB"
      }
    },
    {
      "cell_type": "code",
      "source": [
        "# ----- segundo gráfico, relacionando com a variável target 'y'\n",
        "# área para plotar o gráfico\n",
        "fig, ax = plt.subplots(figsize=(16, 6))\n",
        "\n",
        "# agrupamento de dados por 'job' e 'y'\n",
        "contagem_job_y = df.groupby(['education', 'y']).size().unstack()\n",
        "\n",
        "# ordenação pela conversão predominante\n",
        "contagem_job_y = contagem_job_y.sort_values('no')\n",
        "\n",
        "# seleção do agrupamento e configuração da plotagem\n",
        "contagem_job_y.plot(kind='barh', stacked=True, color=['#F17300', '#3E7CB1'], ax=ax)\n",
        "\n",
        "# adição de rótulo nos dados e melhor ajuste\n",
        "for i, container in enumerate(ax.containers):\n",
        "    if i == 0:  # Primeira categoria (base)\n",
        "        ax.bar_label(container,\n",
        "                    label_type='center',\n",
        "                    color='#212738')\n",
        "    else:  # Segunda categoria (topo)\n",
        "        ax.bar_label(container,\n",
        "                    label_type='edge',\n",
        "                    color='#212738')\n",
        "\n",
        "# configuração dos aspectos do gráfico\n",
        "plt.title('Quantidade de clientes por escolaridade x conversão à campanha')\n",
        "plt.xlabel('Quantidade de clientes')\n",
        "plt.ylabel('Escolaridade')\n",
        "plt.legend(title='Conversão à campanha')\n",
        "\n",
        "# visualização da plotagem\n",
        "plt.show()"
      ],
      "metadata": {
        "id": "aSwyYBsICzEn"
      },
      "execution_count": null,
      "outputs": []
    },
    {
      "cell_type": "markdown",
      "source": [
        "Quando relacionado à variável target 'y', também vemos que há certa proporcionalidade em relação ao número total por estado civil: vai de 84,99% do total (tertiary > universitários) a 91,37% do total (primary > primários, similar ao ensino fundamental no Brasil)"
      ],
      "metadata": {
        "id": "_YM1Dxv9C8eh"
      }
    },
    {
      "cell_type": "markdown",
      "source": [
        "#### 5.3.1.4. Análise - inadimplência"
      ],
      "metadata": {
        "id": "GcM47VX2D-mK"
      }
    },
    {
      "cell_type": "code",
      "source": [
        "# ----- primeiro gráfico, sem relação com a variável target 'y'\n",
        "# área para plotar o gráfico\n",
        "plt.figure(figsize=(14,6))\n",
        "\n",
        "# seleção da variável e configuração da plotagem\n",
        "ax = df['default'].value_counts().sort_values(ascending=True).plot(kind='barh', color='#FFAE80')\n",
        "\n",
        "# adição de rótulo nos dados\n",
        "for container in ax.containers:\n",
        "    ax.bar_label(container, label_type='edge', padding=3, color='#212738')\n",
        "\n",
        "# configuração dos aspectos do gráfico\n",
        "ax.set_title('Quantidade de clientes por presença de inadimplência')\n",
        "ax.set_ylabel('Presença de inadimplência')\n",
        "ax.set_xlabel('Quantidade de clientes')\n",
        "\n",
        "# visualização da plotagem\n",
        "plt.show()"
      ],
      "metadata": {
        "id": "VZ1ZOkzQECYJ"
      },
      "execution_count": null,
      "outputs": []
    },
    {
      "cell_type": "markdown",
      "source": [
        "98,20% do dataset não apresenta qualquer inadimplência."
      ],
      "metadata": {
        "id": "FOAS3YWaEGHy"
      }
    },
    {
      "cell_type": "code",
      "source": [
        "# ----- segundo gráfico, relacionando com a variável target 'y'\n",
        "# área para plotar o gráfico\n",
        "fig, ax = plt.subplots(figsize=(16, 6))\n",
        "\n",
        "# agrupamento de dados por 'job' e 'y'\n",
        "contagem_job_y = df.groupby(['default', 'y']).size().unstack()\n",
        "\n",
        "# ordenação pela conversão predominante\n",
        "contagem_job_y = contagem_job_y.sort_values('no')\n",
        "\n",
        "# seleção do agrupamento e configuração da plotagem\n",
        "contagem_job_y.plot(kind='barh', color=['#F17300', '#3E7CB1'], ax=ax)\n",
        "\n",
        "# adição de rótulo nos dados e melhor ajuste\n",
        "for i, container in enumerate(ax.containers):\n",
        "    if i == 0:  # Primeira categoria (base)\n",
        "        ax.bar_label(container,\n",
        "                    label_type='center',\n",
        "                    color='#212738')\n",
        "    else:  # Segunda categoria (topo)\n",
        "        ax.bar_label(container,\n",
        "                    label_type='edge',\n",
        "                    color='#212738')\n",
        "\n",
        "# configuração dos aspectos do gráfico\n",
        "plt.title('Quantidade de clientes por presença de inadimplência x conversão à campanha')\n",
        "plt.xlabel('Quantidade de clientes')\n",
        "plt.ylabel('Presença de inadimplência')\n",
        "plt.legend(title='Conversão à campanha')\n",
        "\n",
        "# visualização da plotagem\n",
        "plt.show()"
      ],
      "metadata": {
        "id": "d1nHxcGKEFRQ"
      },
      "execution_count": null,
      "outputs": []
    },
    {
      "cell_type": "markdown",
      "source": [
        "Quando relacionado à variável target 'y', foi necessário usar colunas agrupadas em função da escala deixar a instância 'no' com pouca legibilidade. Nesse sentido, é observado que 88,20% dos adimplentes (no) não tiveram conversão à campanha; e como esperado, a maior parte dos inadimplentes não adere à conversão: 93,62% (yes)"
      ],
      "metadata": {
        "id": "yHAYlzu6EGq_"
      }
    },
    {
      "cell_type": "markdown",
      "source": [
        "#### 5.3.1.5. Análise - financiamento habitacional"
      ],
      "metadata": {
        "id": "yd6XtpykHfHZ"
      }
    },
    {
      "cell_type": "code",
      "source": [
        "# ----- primeiro gráfico, sem relação com a variável target 'y'\n",
        "# área para plotar o gráfico\n",
        "plt.figure(figsize=(14,6))\n",
        "\n",
        "# seleção da variável e configuração da plotagem\n",
        "ax = df['housing'].value_counts().sort_values(ascending=True).plot(kind='barh', color='#FFAE80')\n",
        "\n",
        "# adição de rótulo nos dados\n",
        "for container in ax.containers:\n",
        "    ax.bar_label(container, label_type='edge', padding=3, color='#212738')\n",
        "\n",
        "# configuração dos aspectos do gráfico\n",
        "ax.set_title('Quantidade de clientes por presença de financiamento habitacional')\n",
        "ax.set_ylabel('Presença de financiamento habitacional')\n",
        "ax.set_xlabel('Quantidade de clientes')\n",
        "\n",
        "# visualização da plotagem\n",
        "plt.show()"
      ],
      "metadata": {
        "id": "sC9M3fkTHl1L"
      },
      "execution_count": null,
      "outputs": []
    },
    {
      "cell_type": "markdown",
      "source": [
        "Os clientes com financiamento habitacional representam a maior parte do dataset: 55,59%\n",
        "\n"
      ],
      "metadata": {
        "id": "AbOTH5C7HmL-"
      }
    },
    {
      "cell_type": "code",
      "source": [
        "# ----- segundo gráfico, relacionando com a variável target 'y'\n",
        "# área para plotar o gráfico\n",
        "fig, ax = plt.subplots(figsize=(16, 6))\n",
        "\n",
        "# agrupamento de dados por 'job' e 'y'\n",
        "contagem_job_y = df.groupby(['housing', 'y']).size().unstack()\n",
        "\n",
        "# ordenação pela conversão predominante\n",
        "contagem_job_y = contagem_job_y.sort_values('no')\n",
        "\n",
        "# seleção do agrupamento e configuração da plotagem\n",
        "contagem_job_y.plot(kind='barh', stacked=True, color=['#F17300', '#3E7CB1'], ax=ax)\n",
        "\n",
        "# adição de rótulo nos dados e melhor ajuste\n",
        "for i, container in enumerate(ax.containers):\n",
        "    if i == 0:  # Primeira categoria (base)\n",
        "        ax.bar_label(container,\n",
        "                    label_type='center',\n",
        "                    color='#212738')\n",
        "    else:  # Segunda categoria (topo)\n",
        "        ax.bar_label(container,\n",
        "                    label_type='edge',\n",
        "                    color='#212738')\n",
        "\n",
        "# configuração dos aspectos do gráfico\n",
        "plt.title('Quantidade de clientes por presença de financiamento habitacional x conversão à campanha')\n",
        "plt.xlabel('Quantidade de clientes')\n",
        "plt.ylabel('Presença de financiamento habitacional')\n",
        "plt.legend(title='Conversão à campanha')\n",
        "\n",
        "# visualização da plotagem\n",
        "plt.show()"
      ],
      "metadata": {
        "id": "iVa5URN0HllB"
      },
      "execution_count": null,
      "outputs": []
    },
    {
      "cell_type": "markdown",
      "source": [
        "Quando relacionado à variável target 'y', há discrepância mínima a ser observada: 92,30% dos clientes com financiamento habitacional não aderiram à conversão; esse percentual cai para 83,30% quando não há financiamento habitacional"
      ],
      "metadata": {
        "id": "Bm0XB7bEHmdY"
      }
    },
    {
      "cell_type": "markdown",
      "source": [
        "#### 5.3.1.6. Análise - empréstimo pessoal"
      ],
      "metadata": {
        "id": "yeg-JlffJ-nW"
      }
    },
    {
      "cell_type": "code",
      "source": [
        "# ----- primeiro gráfico, sem relação com a variável target 'y'\n",
        "# área para plotar o gráfico\n",
        "plt.figure(figsize=(14,6))\n",
        "\n",
        "# seleção da variável e configuração da plotagem\n",
        "ax = df['loan'].value_counts().sort_values(ascending=True).plot(kind='barh', color='#FFAE80')\n",
        "\n",
        "# adição de rótulo nos dados\n",
        "for container in ax.containers:\n",
        "    ax.bar_label(container, label_type='edge', padding=3, color='#212738')\n",
        "\n",
        "# configuração dos aspectos do gráfico\n",
        "ax.set_title('Quantidade de clientes por presença de empréstimo pessoal')\n",
        "ax.set_ylabel('Presença de empréstimo pessoal')\n",
        "ax.set_xlabel('Quantidade de clientes')\n",
        "\n",
        "# visualização da plotagem\n",
        "plt.show()"
      ],
      "metadata": {
        "id": "chZn7ldXJ_4C"
      },
      "execution_count": null,
      "outputs": []
    },
    {
      "cell_type": "markdown",
      "source": [
        "Os clientes sem empréstimo pessoal representam a maior parte do dataset: 83,98%\n"
      ],
      "metadata": {
        "id": "27-E14m3J-e_"
      }
    },
    {
      "cell_type": "code",
      "source": [
        "# ----- segundo gráfico, relacionando com a variável target 'y'\n",
        "# área para plotar o gráfico\n",
        "fig, ax = plt.subplots(figsize=(16, 6))\n",
        "\n",
        "# agrupamento de dados por 'job' e 'y'\n",
        "contagem_job_y = df.groupby(['loan', 'y']).size().unstack()\n",
        "\n",
        "# ordenação pela conversão predominante\n",
        "contagem_job_y = contagem_job_y.sort_values('no')\n",
        "\n",
        "# seleção do agrupamento e configuração da plotagem\n",
        "contagem_job_y.plot(kind='barh', stacked=True, color=['#F17300', '#3E7CB1'], ax=ax)\n",
        "\n",
        "# adição de rótulo nos dados e melhor ajuste\n",
        "for i, container in enumerate(ax.containers):\n",
        "    if i == 0:  # Primeira categoria (base)\n",
        "        ax.bar_label(container,\n",
        "                    label_type='center',\n",
        "                    color='#212738')\n",
        "    else:  # Segunda categoria (topo)\n",
        "        ax.bar_label(container,\n",
        "                    label_type='edge',\n",
        "                    color='#212738')\n",
        "\n",
        "# configuração dos aspectos do gráfico\n",
        "plt.title('Quantidade de clientes por presença de empréstimo pessoal x conversão à campanha')\n",
        "plt.xlabel('Quantidade de clientes')\n",
        "plt.ylabel('Presença de empréstimo pessoal')\n",
        "plt.legend(title='Conversão à campanha')\n",
        "\n",
        "# visualização da plotagem\n",
        "plt.show()"
      ],
      "metadata": {
        "id": "V9DB7hL3J_Xg"
      },
      "execution_count": null,
      "outputs": []
    },
    {
      "cell_type": "markdown",
      "source": [
        "Quando relacionado à variável target 'y', o comportamento é semelhante ao observado nos clientes que possuem financiamento habitacional: 93,32% dos que têm empréstimo pessoal não aderem à conversão; esse percentual cai para 87,34% quando é verificado quem não tem empréstimo pessoal"
      ],
      "metadata": {
        "id": "S6oysyZ-J-PL"
      }
    },
    {
      "cell_type": "markdown",
      "source": [
        "#### 5.3.1.7. Análise - tipo de contato"
      ],
      "metadata": {
        "id": "J5ay96k8O7V0"
      }
    },
    {
      "cell_type": "code",
      "source": [
        "# ----- primeiro gráfico, sem relação com a variável target 'y'\n",
        "# área para plotar o gráfico\n",
        "plt.figure(figsize=(14,6))\n",
        "\n",
        "# seleção da variável e configuração da plotagem\n",
        "ax = df['contact'].value_counts().sort_values(ascending=True).plot(kind='barh', color='#FFAE80')\n",
        "\n",
        "# adição de rótulo nos dados\n",
        "for container in ax.containers:\n",
        "    ax.bar_label(container, label_type='edge', padding=3, color='#212738')\n",
        "\n",
        "# configuração dos aspectos do gráfico\n",
        "ax.set_title('Quantidade de clientes por tipo de contato')\n",
        "ax.set_ylabel('Tipo de contato')\n",
        "ax.set_xlabel('Quantidade de clientes')\n",
        "\n",
        "# visualização da plotagem\n",
        "plt.show()"
      ],
      "metadata": {
        "id": "vQAt-gf4O8vl"
      },
      "execution_count": null,
      "outputs": []
    },
    {
      "cell_type": "markdown",
      "source": [
        "Nesse ponto da análise é encontrado o primeiro problema considerável do dataset: não é possível determinar o tipo de contato feito com 28,80% da base. Já a maior parte (64,77%) foi feita por celular."
      ],
      "metadata": {
        "id": "nT824lDWO755"
      }
    },
    {
      "cell_type": "code",
      "source": [
        "# ----- segundo gráfico, relacionando com a variável target 'y'\n",
        "# área para plotar o gráfico\n",
        "fig, ax = plt.subplots(figsize=(16, 6))\n",
        "\n",
        "# agrupamento de dados por 'job' e 'y'\n",
        "contagem_job_y = df.groupby(['contact', 'y']).size().unstack()\n",
        "\n",
        "# ordenação pela conversão predominante\n",
        "contagem_job_y = contagem_job_y.sort_values('no')\n",
        "\n",
        "# seleção do agrupamento e configuração da plotagem\n",
        "contagem_job_y.plot(kind='barh', stacked=True, color=['#F17300', '#3E7CB1'], ax=ax)\n",
        "\n",
        "# adição de rótulo nos dados e melhor ajuste\n",
        "for i, container in enumerate(ax.containers):\n",
        "    if i == 0:  # Primeira categoria (base)\n",
        "        ax.bar_label(container,\n",
        "                    label_type='center',\n",
        "                    color='#212738')\n",
        "    else:  # Segunda categoria (topo)\n",
        "        ax.bar_label(container,\n",
        "                    label_type='edge',\n",
        "                    color='#212738')\n",
        "\n",
        "# configuração dos aspectos do gráfico\n",
        "plt.title('Quantidade de clientes por tipo de contato x conversão à campanha')\n",
        "plt.xlabel('Quantidade de clientes')\n",
        "plt.ylabel('Tipo de contato')\n",
        "plt.legend(title='Conversão à campanha')\n",
        "\n",
        "# visualização da plotagem\n",
        "plt.show()"
      ],
      "metadata": {
        "id": "xMt7_NPbO9B0"
      },
      "execution_count": null,
      "outputs": []
    },
    {
      "cell_type": "markdown",
      "source": [
        "Quando relacionado à variável target 'y', como destacado na visualização anterior, a instância 'unknown' (desconhecido) traz um problema para a análise: não é possível afirmar como foi feito o contato para quem não aderiu à campanha nessa faixa (95,93% > maior proporção desse recorte). Essa proporção cai para 86,58% para quem foi contatado por telefone, e para 85,08% para quem foi contatado por celular."
      ],
      "metadata": {
        "id": "8Pmlb0UNO8Lk"
      }
    },
    {
      "cell_type": "markdown",
      "source": [
        "#### 5.3.1.8. Análise - mês do último contato"
      ],
      "metadata": {
        "id": "Y4c4JF7cTcAp"
      }
    },
    {
      "cell_type": "code",
      "source": [
        "# ----- primeiro gráfico, sem relação com a variável target 'y'\n",
        "# área para plotar o gráfico\n",
        "plt.figure(figsize=(14,6))\n",
        "\n",
        "# seleção da variável e configuração da plotagem\n",
        "ax = df['month'].value_counts().sort_values(ascending=True).plot(kind='barh', color='#FFAE80')\n",
        "\n",
        "# adição de rótulo nos dados\n",
        "for container in ax.containers:\n",
        "    ax.bar_label(container, label_type='edge', padding=3, color='#212738')\n",
        "\n",
        "# configuração dos aspectos do gráfico\n",
        "ax.set_title('Quantidade de clientes por mês de último contato')\n",
        "ax.set_ylabel('Mês de último contato')\n",
        "ax.set_xlabel('Quantidade de clientes')\n",
        "\n",
        "# visualização da plotagem\n",
        "plt.show()"
      ],
      "metadata": {
        "id": "85Gz0eMZTcbd"
      },
      "execution_count": null,
      "outputs": []
    },
    {
      "cell_type": "markdown",
      "source": [
        "Os contatos parecem estar bem divididos quando separamos na metade: 58,76% foram feitos no 1º semestre, sendo 30,44% do total e 51,81% do semestre somente em maio."
      ],
      "metadata": {
        "id": "UZAf2JI_Tb3G"
      }
    },
    {
      "cell_type": "code",
      "source": [
        "# ----- segundo gráfico, relacionando com a variável target 'y'\n",
        "# área para plotar o gráfico\n",
        "fig, ax = plt.subplots(figsize=(16, 6))\n",
        "\n",
        "# agrupamento de dados por 'job' e 'y'\n",
        "contagem_job_y = df.groupby(['month', 'y']).size().unstack()\n",
        "\n",
        "# ordenação pela conversão predominante\n",
        "contagem_job_y = contagem_job_y.sort_values('no')\n",
        "\n",
        "# seleção do agrupamento e configuração da plotagem\n",
        "contagem_job_y.plot(kind='barh', stacked=True, color=['#F17300', '#3E7CB1'], ax=ax)\n",
        "\n",
        "# adição de rótulo nos dados e melhor ajuste\n",
        "for i, container in enumerate(ax.containers):\n",
        "    if i == 0:  # Primeira categoria (base)\n",
        "        ax.bar_label(container,\n",
        "                    label_type='center',\n",
        "                    color='#212738')\n",
        "    else:  # Segunda categoria (topo)\n",
        "        ax.bar_label(container,\n",
        "                    label_type='edge',\n",
        "                    color='#212738')\n",
        "\n",
        "# configuração dos aspectos do gráfico\n",
        "plt.title('Quantidade de clientes por mês de último contato x conversão à campanha')\n",
        "plt.xlabel('Quantidade de clientes')\n",
        "plt.ylabel('Mês de último contato')\n",
        "plt.legend(title='Conversão à campanha')\n",
        "\n",
        "# visualização da plotagem\n",
        "plt.show()"
      ],
      "metadata": {
        "id": "fggovWFZTcsG"
      },
      "execution_count": null,
      "outputs": []
    },
    {
      "cell_type": "markdown",
      "source": [
        "Quando relacionado à variável target 'y', é notada uma diferença grande das proporções dos clientes que não aderiram à conversão de acordo com o mês: ela vai de 48,01% em março a 93,28% em maio. As menores proporções (até < 60%) compreendem, além de março, os meses de dezembro (53,27%), setembro (53,54%) e outubro (56,23%); os percentuais já saltam para > 80% nos demais meses, indicando quais são os melhores períodos para se obter conversão positiva à campanha."
      ],
      "metadata": {
        "id": "BUuWLJosTbll"
      }
    },
    {
      "cell_type": "markdown",
      "source": [
        "#### 5.3.1.9. Análise - resultado da última campanha"
      ],
      "metadata": {
        "id": "iyeX_6tfZKRC"
      }
    },
    {
      "cell_type": "code",
      "source": [
        "# ----- primeiro gráfico, sem relação com a variável target 'y'\n",
        "# área para plotar o gráfico\n",
        "plt.figure(figsize=(14,6))\n",
        "\n",
        "# seleção da variável e configuração da plotagem\n",
        "ax = df['poutcome'].value_counts().sort_values(ascending=True).plot(kind='barh', color='#FFAE80')\n",
        "\n",
        "# adição de rótulo nos dados\n",
        "for container in ax.containers:\n",
        "    ax.bar_label(container, label_type='edge', padding=3, color='#212738')\n",
        "\n",
        "# configuração dos aspectos do gráfico\n",
        "ax.set_title('Quantidade de clientes por resultado da última campanha')\n",
        "ax.set_ylabel('Resultado da última campanha')\n",
        "ax.set_xlabel('Quantidade de clientes')\n",
        "\n",
        "# visualização da plotagem\n",
        "plt.show()"
      ],
      "metadata": {
        "id": "WqiRbXBrZM7S"
      },
      "execution_count": null,
      "outputs": []
    },
    {
      "cell_type": "markdown",
      "source": [
        "Assim como na análise do tipo de contato, nesse recorte a informação desconhecida (unknown) apresenta um problema no sentido de comparar a eficiência dos esforços: 81,75% dos clientes contatados estão sem a informação."
      ],
      "metadata": {
        "id": "SnYX2lNtZMD2"
      }
    },
    {
      "cell_type": "code",
      "source": [
        "# ----- segundo gráfico, relacionando com a variável target 'y'\n",
        "# área para plotar o gráfico\n",
        "fig, ax = plt.subplots(figsize=(16, 6))\n",
        "\n",
        "# agrupamento de dados por 'job' e 'y'\n",
        "contagem_job_y = df.groupby(['poutcome', 'y']).size().unstack()\n",
        "\n",
        "# ordenação pela conversão predominante\n",
        "contagem_job_y = contagem_job_y.sort_values('no')\n",
        "\n",
        "# seleção do agrupamento e configuração da plotagem\n",
        "contagem_job_y.plot(kind='barh', stacked=True, color=['#F17300', '#3E7CB1'], ax=ax)\n",
        "\n",
        "# adição de rótulo nos dados e melhor ajuste\n",
        "for i, container in enumerate(ax.containers):\n",
        "    if i == 0:  # Primeira categoria (base)\n",
        "        ax.bar_label(container,\n",
        "                    label_type='center',\n",
        "                    color='#212738')\n",
        "    else:  # Segunda categoria (topo)\n",
        "        ax.bar_label(container,\n",
        "                    label_type='edge',\n",
        "                    color='#212738')\n",
        "\n",
        "# configuração dos aspectos do gráfico\n",
        "plt.title('Quantidade de clientes por resultado da última campanha x conversão à campanha')\n",
        "plt.xlabel('Quantidade de clientes')\n",
        "plt.ylabel('Resultado da última campanha')\n",
        "plt.legend(title='Conversão à campanha')\n",
        "\n",
        "# visualização da plotagem\n",
        "plt.show()"
      ],
      "metadata": {
        "id": "i0P1jg6wZNPu"
      },
      "execution_count": null,
      "outputs": []
    },
    {
      "cell_type": "markdown",
      "source": [
        "O desconhecimento da informação na maior parte dos clientes contatados é um problema ainda maior quando se percebe que 64,73% dos clientes com conversão positiva na última campanha, também tiveram conversão positiva na campanha em análise. Além disso, a informação 'other' não agrega valor à análise pois não há descrição do que ela representa."
      ],
      "metadata": {
        "id": "zbV-IAh-ZMfN"
      }
    },
    {
      "cell_type": "markdown",
      "source": [
        "#### 5.3.1.10. Análise - resultado da campanha (variável target 'y')"
      ],
      "metadata": {
        "id": "TS1gZbiBJGQ7"
      }
    },
    {
      "cell_type": "code",
      "source": [
        "# área para plotar o gráfico\n",
        "plt.figure(figsize=(14,6))\n",
        "\n",
        "# seleção da variável e configuração da plotagem\n",
        "ax = df['y'].value_counts().sort_values(ascending=False).plot(kind='bar', color='#FFAE80')\n",
        "\n",
        "# adição de rótulo nos dados\n",
        "for container in ax.containers:\n",
        "    ax.bar_label(container, label_type='edge', padding=3, color='#212738')\n",
        "\n",
        "# configuração dos aspectos do gráfico\n",
        "ax.set_title('Quantidade de clientes por resultado da campanha')\n",
        "ax.set_ylabel('Clientes')\n",
        "ax.set_xlabel('Resultado da campanha')\n",
        "\n",
        "# visualização da plotagem\n",
        "plt.show()"
      ],
      "metadata": {
        "id": "Y1AbDAjCJG0d"
      },
      "execution_count": null,
      "outputs": []
    },
    {
      "cell_type": "markdown",
      "source": [
        "Aqui fica evidenciada a hipótese formulada com base em \"percepção\" no início desse estudo: 11,70% da campanha teve conversão positiva"
      ],
      "metadata": {
        "id": "mMW4VlDjJHN5"
      }
    },
    {
      "cell_type": "markdown",
      "source": [
        "### 5.3.2. Variáveis quantitativas\n",
        "\n",
        "Usando a mesma premissa na seção de análise das variáveis qualitativas, é importante entender como as variáveis quantitativas estão distribuídas para relacionar seu padrão com a conversão da campanha."
      ],
      "metadata": {
        "id": "PII7Mh3YwREz"
      }
    },
    {
      "cell_type": "markdown",
      "source": [
        "#### 5.3.2.1. Média\n",
        "\n",
        "A primeira medida de interesse que pode ser explorada nesse dataset para alguns insights é a média."
      ],
      "metadata": {
        "id": "BodIFWbDLxPM"
      }
    },
    {
      "cell_type": "code",
      "source": [
        "# média das dimensões numéricas\n",
        "print(\"\\nDesvio padrão:\")\n",
        "df.describe().loc['mean']"
      ],
      "metadata": {
        "id": "J_aCvnYAND2q"
      },
      "execution_count": null,
      "outputs": []
    },
    {
      "cell_type": "markdown",
      "source": [
        "Em média, o dataset concentra informações em clientes na fase adulta (~41 anos), com renda anual média 1,57x superior ao salário mínimo de portugal (780 € > cerca de R$ 8.700,00), sendo necessários 3 contatos geralmente feitos no meio do mês e durando cerca de 4 minutos; esses clientes ficaram cerca de 40 dias sem contato desde a última campanha, que foi feito somente 1 contato."
      ],
      "metadata": {
        "id": "RIZ6L_qRbu5c"
      }
    },
    {
      "cell_type": "markdown",
      "source": [
        "##### 5.3.2.1.1. Média - relação com variável target (y)\n",
        "\n",
        "O gráfico a seguir relaciona a média das variáveis numéricas com a conversão à campanha, trazendo alguns primeiros insights."
      ],
      "metadata": {
        "id": "JPK9llB1s0l5"
      }
    },
    {
      "cell_type": "code",
      "source": [
        "# listagem das variáveis numéricas para o gráfico\n",
        "variaveis_numericas = ['age', 'day', 'duration', 'campaign', 'pdays',\n",
        "                       'previous', 'balance']\n",
        "\n",
        "# cálculo das médias em função da variável target 'y'\n",
        "medias_por_y = df.groupby('y')[variaveis_numericas].mean().reset_index()\n",
        "\n",
        "# área para plotar o gráfico\n",
        "plt.figure(figsize=(10, 6))\n",
        "\n",
        "# pivotagem das médias calculadas para preparar as variáveis para plotar no gráfico\n",
        "medias_mix = medias_por_y.melt(id_vars='y', var_name='Variável',\n",
        "                               value_name='Média')\n",
        "\n",
        "# criação do gráfico de barras\n",
        "barplot = sns.barplot(data=medias_mix, x='Variável', y='Média', hue='y',\n",
        "                      palette={'yes': '#3E7CB1', 'no': '#F17300'})\n",
        "\n",
        "# configuração dos aspectos do gráfico\n",
        "plt.title('Médias das variáveis numéricas por conversão à campanha')\n",
        "plt.xlabel('Variável')\n",
        "plt.ylabel('Média')\n",
        "plt.legend(title='Conversão à campanha')\n",
        "plt.tight_layout()\n",
        "\n",
        "# adição de valores e configurando parâmetros visuais do gráfico\n",
        "for p in barplot.patches:\n",
        "    barplot.annotate(\n",
        "        f\"{p.get_height():.1f}\",\n",
        "        (p.get_x() + p.get_width() / 2., p.get_height()),\n",
        "        ha='center',\n",
        "        va='center',\n",
        "        xytext=(0, 8),\n",
        "        textcoords='offset points'\n",
        "    )\n",
        "\n",
        "# visualização da plotagem\n",
        "plt.show()"
      ],
      "metadata": {
        "id": "DH0TgIf5RHv9"
      },
      "execution_count": null,
      "outputs": []
    },
    {
      "cell_type": "markdown",
      "source": [
        "##### Média - principais insights\n",
        "\n",
        "Olhando para as médias, nota-se que os clientes que tiveram conversão à campanha (y = yes):\n",
        "- Ficaram 2,43x mais tempo em ligação do que os clientes que não tiveram conversão;\n",
        "- Ficaram 1,89x mais dias sem contato (desde a última campanha) do que os clientes que não tiveram conversão;\n",
        "- Possuem renda anual média 1,38x maior do que os clientes que não tiveram conversão;"
      ],
      "metadata": {
        "id": "V2eaV3j4oUkt"
      }
    },
    {
      "cell_type": "markdown",
      "source": [
        "#### 5.3.2.2. Desvio padrão\n",
        "\n",
        "A segunda medida de interesse que pode ser explorada nesse dataset para alguns insights é o desvio padrão, visando complementar o que foi explorado na seção da Média."
      ],
      "metadata": {
        "id": "LNvuJaVkxnhA"
      }
    },
    {
      "cell_type": "code",
      "source": [
        "# desvio padrão das dimensões numéricas\n",
        "print(\"\\nDesvio padrão:\")\n",
        "df.describe().loc['std']"
      ],
      "metadata": {
        "id": "65NxGIchsorn"
      },
      "execution_count": null,
      "outputs": []
    },
    {
      "cell_type": "markdown",
      "source": [
        "Quando se valida o desvio padrão, é verificado que o dataset apresenta um público muito variado: as variações mais significativas giram em torno da renda anual média (chegando a valores negativos, indicando desde clientes com problemas financeiros a clientes em situação relativamente confortável), duração dos contatos (indo de contato não realizado ao dobro da média), contatos realizados (de nenhum contato realizado ao dobro da média) e dias desde o último contato (clientes sem nenhum contato e clientes com relacionamento mais próximo)."
      ],
      "metadata": {
        "id": "CBeAZbM0x4vZ"
      }
    },
    {
      "cell_type": "markdown",
      "source": [
        "##### 5.3.2.2.1. Desvio padrão - relação com variável target (y)\n",
        "\n",
        "O gráfico a seguir relaciona o desvio padrão das variáveis numéricas com a conversão à campanha, trazendo mais alguns insights."
      ],
      "metadata": {
        "id": "XpBpCUqkuInu"
      }
    },
    {
      "cell_type": "code",
      "source": [
        "# listagem das dimensões numéricas para o gráfico\n",
        "dimensoes_numericas = df.select_dtypes(include=['int64', 'float64']).columns\n",
        "\n",
        "# cálculo das médias em função da variável target 'y'\n",
        "desvpad_por_y = df.groupby('y')[dimensoes_numericas].std().reset_index()\n",
        "\n",
        "# área para plotar o gráfico\n",
        "plt.figure(figsize=(10, 6))\n",
        "\n",
        "# pivotagem das médias calculadas para preparar as variáveis para plotar no gráfico\n",
        "desvpad_mix = desvpad_por_y.melt(id_vars='y', var_name='Variável', value_name='Desvio padrão')\n",
        "\n",
        "# criação do gráfico de barras\n",
        "barplot = sns.barplot(\n",
        "    data=desvpad_mix,\n",
        "    x='Variável',\n",
        "    y='Desvio padrão',\n",
        "    hue='y',\n",
        "    palette={'yes': '#3E7CB1', 'no': '#F17300'}\n",
        ")\n",
        "\n",
        "# configuração dos aspectos do gráfico\n",
        "plt.title('Desvio padrão das variáveis numéricas por conversão à campanha')\n",
        "plt.xlabel('Variável')\n",
        "plt.ylabel('Desvio padrão')\n",
        "plt.legend(title='Conversão à campanha')\n",
        "plt.tight_layout()\n",
        "\n",
        "# adição de valores e configurando parâmetros visuais do gráfico\n",
        "for p in barplot.patches:\n",
        "    barplot.annotate(\n",
        "        f\"{p.get_height():.1f}\",\n",
        "        (p.get_x() + p.get_width() / 2., p.get_height()),\n",
        "        ha='center',\n",
        "        va='center',\n",
        "        xytext=(0, 8),\n",
        "        textcoords='offset points'\n",
        "    )\n",
        "\n",
        "# plotando o gráfico\n",
        "plt.show()"
      ],
      "metadata": {
        "id": "4WRamsfJuJCF"
      },
      "execution_count": null,
      "outputs": []
    },
    {
      "cell_type": "markdown",
      "source": [
        "##### Desvio padrão - principais insights\n",
        "\n",
        "Olhando para o desvio padrão, nota-se que os clientes que tiveram conversão à campanha (y = yes):\n",
        "- Se distanciam 1,32x a média de idade do que os clientes que não tiveram conversão;\n",
        "- Se distanciam 1,89x a média de duração da ligação do que os clientes que não tiveram conversão;\n",
        "- Se distanciam 1,22x a média de dias sem contato (desde a última campanha) do que os clientes que não tiveram conversão;\n",
        "- Se distanciam 1,18x a renda anual média do que os clientes que não tiveram conversão;"
      ],
      "metadata": {
        "id": "e5rreNoJx9tY"
      }
    },
    {
      "cell_type": "markdown",
      "source": [
        "#### 5.3.2.3. Matriz de correlação\n",
        "\n",
        "Outra visualização interessante, considerando que existem muitas dimensões numéricas, é entender como elas se relacionam através da matriz de correlação."
      ],
      "metadata": {
        "id": "zxWMQGQkeW5v"
      }
    },
    {
      "cell_type": "code",
      "source": [
        "# listagem das dimensões numéricas para o gráfico\n",
        "dimensoes_numericas = df.select_dtypes(include=['int64', 'float64']).columns\n",
        "\n",
        "# criação de um dataframe apenas com as dimensões numéricas\n",
        "df_numericas = df[dimensoes_numericas]\n",
        "\n",
        "# cálculo da matriz de correlação\n",
        "matriz_corr = df_numericas.corr()\n",
        "\n",
        "# Plotar a matriz de correlação com Seaborn\n",
        "plt.figure(figsize=(12, 10))\n",
        "sns.heatmap(matriz_corr, annot=True, cmap='coolwarm', center=0, fmt=\".2f\",\n",
        "            linewidths=.5, cbar_kws={\"shrink\": .8})\n",
        "plt.title('Matriz de Correlação das Dimensões Numéricas - Bank Marketing', pad=10)\n",
        "plt.xticks(rotation=45, ha='right')\n",
        "plt.yticks(rotation=0)\n",
        "plt.tight_layout()\n",
        "plt.show()"
      ],
      "metadata": {
        "id": "3GmPAUN6efch"
      },
      "execution_count": null,
      "outputs": []
    },
    {
      "cell_type": "markdown",
      "source": [
        "A matriz de correlação demonstra que as variáveis possuem seus próprios comportamentos isolados, sem influência entre si. A única exceção demonstra uma pequena correlação entre pdays e previous, o que pode ser explicado pela interpretação do grande número de contatos não realizados antes da campanha atual."
      ],
      "metadata": {
        "id": "IAV7iBr4oBk3"
      }
    },
    {
      "cell_type": "markdown",
      "source": [
        "#### 5.3.2.4. Distribuição das variáveis\n",
        "\n",
        "Para se ter melhor ideia de como os dados estão dispersos no dataset, é importante explorar tal abordagem através de visualizações de distribuição das variáveis, como histogramas e boxplots."
      ],
      "metadata": {
        "id": "rHRDDV6avREL"
      }
    },
    {
      "cell_type": "markdown",
      "source": [
        "##### 5.3.2.4.1. Análise - idade dos clientes"
      ],
      "metadata": {
        "id": "0rflcXAU88G2"
      }
    },
    {
      "cell_type": "code",
      "source": [
        "# área para plotar o gráfico\n",
        "plt.figure(figsize=(14, 6))\n",
        "\n",
        "# seleção da variável e configuração da plotagem\n",
        "n, bins, patches = plt.hist(df['age'], bins=20, edgecolor='#F2F4F3', color='#FFAE80')\n",
        "\n",
        "# adição de rótulos nos dados\n",
        "for i in range(len(n)):\n",
        "    if n[i] > 0:\n",
        "        plt.text(bins[i] + (bins[i+1] - bins[i])/2, n[i],\n",
        "                 str(int(n[i])),\n",
        "                 ha='center',\n",
        "                 va='bottom')\n",
        "\n",
        "# configuração dos aspectos do gráfico\n",
        "plt.title('Distribuição da idade dos clientes')\n",
        "plt.xlabel('Idade dos clientes')\n",
        "plt.ylabel('Frequência')\n",
        "\n",
        "# visualização da plotagem\n",
        "plt.show()"
      ],
      "metadata": {
        "id": "yNkGDU3942z3"
      },
      "execution_count": null,
      "outputs": []
    },
    {
      "cell_type": "code",
      "source": [
        "# primeiro boxplot, sem relação com variável target 'y'\n",
        "# área para plotar o gráfico\n",
        "plt.figure(figsize=(8, 4))\n",
        "\n",
        "# seleção da variável e configuração da plotagem\n",
        "sns.boxplot(data=df['age'], color='#212738', width=0.6)\n",
        "\n",
        "# criação de variáveis para destacar as estatísticas mais importantes\n",
        "mediana_idade = df['age'].median()\n",
        "media_idade = df['age'].mean()\n",
        "q1_idade = df['age'].quantile(0.25)\n",
        "q3_idade = df['age'].quantile(0.75)\n",
        "\n",
        "# configuração das estatísticas mais importantes\n",
        "plt.axhline(mediana_idade, color='#F17300', linestyle='-.',\n",
        "            linewidth=1.2,label=f'Mediana: {mediana_idade:.0f} anos')\n",
        "plt.axhline(media_idade, color='#86B0D5', linestyle='--', linewidth=1.2,\n",
        "            label=f'Média: {media_idade:.1f} anos')\n",
        "plt.axhline(q1_idade, linestyle='none', label=f'1º Quartil: {q1_idade:.0f} anos')\n",
        "plt.axhline(q3_idade, linestyle='none', label=f'3º Quartil: {q3_idade:.0f} anos')\n",
        "plt.legend()\n",
        "\n",
        "# configuração dos aspectos do gráfico\n",
        "plt.title('Distribuição da idade dos clientes')\n",
        "plt.ylabel('Idade dos clientes')\n",
        "plt.rcParams['grid.color'] = '#DEE3E0'\n",
        "\n",
        "# visualização da plotagem\n",
        "plt.show()"
      ],
      "metadata": {
        "id": "rM-Yx2NX8n6C"
      },
      "execution_count": null,
      "outputs": []
    },
    {
      "cell_type": "code",
      "source": [
        "# conjunto de 2 boxplots, separando por relação com a variável target 'y'\n",
        "# área para plotar o gráfico\n",
        "plt.figure(figsize=(12, 6))\n",
        "\n",
        "# boxplot para y = 'no'\n",
        "plt.subplot(1, 2, 1)\n",
        "\n",
        "# seleção da variável e configuração da plotagem\n",
        "sns.boxplot(data=df[df['y'] == 'no']['age'], color='#86B0D5', width=0.6)\n",
        "\n",
        "# criação de variáveis para destacar as estatísticas mais importantes\n",
        "idade_no = df[df['y'] == 'no']['age']\n",
        "q1_no = idade_no.quantile(0.25)\n",
        "q3_no = idade_no.quantile(0.75)\n",
        "\n",
        "# configuração das estatísticas mais importantes\n",
        "plt.axhline(idade_no.median(), color='#F17300', linestyle='-.', linewidth=1.2,\n",
        "            label=f'Mediana: {idade_no.median():.0f} anos')\n",
        "plt.axhline(idade_no.mean(), color='#212738', linestyle='--', linewidth=1.2,\n",
        "            label=f'Média: {idade_no.mean():.1f} anos')\n",
        "plt.axhline(q1_no, linestyle='none', label=f'1º Quartil: {q1_no:.0f} anos')\n",
        "plt.axhline(q3_no, linestyle='none', label=f'3º Quartil: {q3_no:.0f} anos')\n",
        "plt.legend()\n",
        "\n",
        "# configuração dos aspectos do gráfico\n",
        "plt.title('Distribuição de idade por conversão NEGATIVA')\n",
        "plt.ylabel('Idade')\n",
        "plt.xlabel('Clientes com conversão NEGATIVA')\n",
        "plt.rcParams['grid.color'] = '#DEE3E0'\n",
        "\n",
        "### -------------------\n",
        "\n",
        "# boxplot para y = 'yes'\n",
        "plt.subplot(1, 2, 2)\n",
        "\n",
        "# seleção da variável e configuração da plotagem\n",
        "sns.boxplot(data=df[df['y'] == 'yes']['age'], color='#4CB963', width=0.6)\n",
        "\n",
        "# criação de variáveis para destacar as estatísticas mais importantes\n",
        "idade_yes = df[df['y'] == 'yes']['age']\n",
        "q1_yes = idade_yes.quantile(0.25)\n",
        "q3_yes = idade_yes.quantile(0.75)\n",
        "\n",
        "# Linhas e legendas\n",
        "plt.axhline(idade_yes.median(), color='#F17300', linestyle='-.', linewidth=1.2,\n",
        "            label=f'Mediana: {idade_yes.median():.0f} anos')\n",
        "plt.axhline(idade_yes.mean(), color='#212738', linestyle='--', linewidth=1.2,\n",
        "            label=f'Média: {idade_yes.mean():.1f} anos')\n",
        "plt.axhline(q1_yes, linestyle='none', label=f'1º Quartil: {q1_yes:.0f} anos')\n",
        "plt.axhline(q3_yes, linestyle='none', label=f'3º Quartil: {q3_yes:.0f} anos')\n",
        "plt.legend()\n",
        "\n",
        "# configuração dos aspectos do gráfico\n",
        "plt.title('Distribuição de idade por conversão POSITIVA')\n",
        "plt.ylabel('Idade')\n",
        "plt.xlabel('Clientes com conversão POSITIVA')\n",
        "plt.rcParams['grid.color'] = '#DEE3E0'\n",
        "\n",
        "# ajuste de layout e visualização da plotagem\n",
        "plt.tight_layout()\n",
        "plt.show()"
      ],
      "metadata": {
        "id": "C5h8XHzk3eDO"
      },
      "execution_count": null,
      "outputs": []
    },
    {
      "cell_type": "markdown",
      "source": [
        "- A distribuição da idade dos clientes se mostra Assimétrica Positiva, unimodal, concentrada nas faixas 30-50 anos e demonstrando a demografia-alvo do banco.\n",
        "- Com mediana e média muito próximas, a distribuição por idade se mostra balanceada, com 50% dos clientes possuindo idade entre 33 e 48 anos e poucos outliers distorcendo a média de forma quase nula.\n",
        "- Ao separar a análise por conversão à campanha, os números possuem pouca variação"
      ],
      "metadata": {
        "id": "Sz9SjWy6La9R"
      }
    },
    {
      "cell_type": "markdown",
      "source": [
        "##### 5.3.2.4.2. Análise - renda anual média"
      ],
      "metadata": {
        "id": "S7kjmpSqTf8X"
      }
    },
    {
      "cell_type": "code",
      "source": [
        "# área para plotar o gráfico\n",
        "plt.figure(figsize=(14, 6))\n",
        "\n",
        "# seleção da variável e configuração da plotagem\n",
        "n, bins, patches = plt.hist(df['balance'], bins=50, edgecolor='#F2F4F3',\n",
        "                            color='#FFAE80')\n",
        "\n",
        "# adição de rótulos nos dados\n",
        "for i in range(len(n)):\n",
        "    if n[i] > 0:\n",
        "        plt.text(bins[i] + (bins[i+1] - bins[i])/2, n[i],\n",
        "                 str(int(n[i])),\n",
        "                 ha='center',\n",
        "                 va='bottom')\n",
        "\n",
        "# configuração dos aspectos do gráfico\n",
        "plt.title('Distribuição da renda anual média dos clientes')\n",
        "plt.xlabel('Renda anual média')\n",
        "plt.ylabel('Frequência')\n",
        "\n",
        "# visualização da plotagem\n",
        "plt.show()"
      ],
      "metadata": {
        "id": "VZKX5a93ThOY"
      },
      "execution_count": null,
      "outputs": []
    },
    {
      "cell_type": "code",
      "source": [
        "# área para plotar o gráfico\n",
        "plt.figure(figsize=(8, 6))\n",
        "\n",
        "# seleção da variável e configuração da plotagem\n",
        "sns.boxplot(data=df['balance'], color='#212738', width=0.6)\n",
        "\n",
        "# criação de variáveis para destacar as estatísticas mais importantes\n",
        "mediana_renda = df['balance'].median()\n",
        "media_renda = df['balance'].mean()\n",
        "q1_renda = df['balance'].quantile(0.25)\n",
        "q3_renda = df['balance'].quantile(0.75)\n",
        "\n",
        "# variável de referência para ajuste de proporção do eixo y\n",
        "iqr = q3_renda - q1_renda\n",
        "\n",
        "# configuração das estatísticas mais importantes e ajuste de escala no eixo y\n",
        "## escala do eixo y foi ajustada para melhor legibilidade em função de muitos outliers\n",
        "plt.axhline(mediana_renda, color='#F17300', linestyle='-.', linewidth=1.2, label=f'Mediana: {mediana_renda:.2f} €')\n",
        "plt.axhline(media_renda, color='#86B0D5', linestyle='--', linewidth=1.2, label=f'Média: {media_renda:.2f} €')\n",
        "plt.axhline(q1_renda, linestyle='none', label=f'1º Quartil: {q1_renda:.2f} €')\n",
        "plt.axhline(q3_renda, linestyle='none', label=f'3º Quartil: {q3_renda:.2f} €')\n",
        "plt.ylim([q1_renda - 3*iqr, q3_renda + 3*iqr])\n",
        "plt.legend()\n",
        "\n",
        "# configuração dos aspectos do gráfico\n",
        "plt.title('Distribuição da renda anual média')\n",
        "plt.ylabel('Renda anual média dos clientes')\n",
        "plt.rcParams['grid.color'] = '#DEE3E0'\n",
        "\n",
        "# visualização da plotagem\n",
        "plt.show()"
      ],
      "metadata": {
        "id": "b_zBIDtPTg2g"
      },
      "execution_count": null,
      "outputs": []
    },
    {
      "cell_type": "code",
      "source": [
        "print(df['balance'].sort_values(ascending=True).head(28267))"
      ],
      "metadata": {
        "id": "-7JgMG_PctcW"
      },
      "execution_count": null,
      "outputs": []
    },
    {
      "cell_type": "markdown",
      "source": [
        "- A distribuição da renda anual média dos clientes se mostra Assimétrica Positiva com cauda longa a direita, unimodal, com 62,55% das suas instâncias em até 787 € (partindo de -8.019 €).\n",
        "- Com mediana e média muito distantes, a distribuição por renda anual média se mostra muito desbalanceada, com 50% dos clientes com renda anual média entre 72 € e 1428 €. Mesmo que com poucos outliers em quantidade (proporcionalmente ao total), os valores desses outliers distorcem significativamente a média."
      ],
      "metadata": {
        "id": "TH0uVqvETfeV"
      }
    },
    {
      "cell_type": "markdown",
      "source": [
        "##### 5.3.2.4.3. Análise - dia do mês do último contato"
      ],
      "metadata": {
        "id": "YxXR2N-1fVHS"
      }
    },
    {
      "cell_type": "code",
      "source": [
        "# área para plotar o gráfico\n",
        "plt.figure(figsize=(16, 6))\n",
        "\n",
        "# seleção da variável e configuração da plotagem\n",
        "n, bins, patches = plt.hist(df['day'], bins=30, edgecolor='#F2F4F3',\n",
        "                            color='#FFAE80')\n",
        "\n",
        "# adição de rótulos nos dados\n",
        "for i in range(len(n)):\n",
        "    if n[i] > 0:\n",
        "        plt.text(bins[i] + (bins[i+1] - bins[i])/2, n[i],\n",
        "                 str(int(n[i])),\n",
        "                 ha='center',\n",
        "                 va='bottom')\n",
        "\n",
        "# configuração dos aspectos do gráfico\n",
        "plt.title('Distribuição do último dia do mês de contato com o cliente')\n",
        "plt.xlabel('Último dia do mês de contato')\n",
        "plt.ylabel('Frequência')\n",
        "\n",
        "# visualização da plotagem\n",
        "plt.show()"
      ],
      "metadata": {
        "id": "uGgzRnDxfWhO"
      },
      "execution_count": null,
      "outputs": []
    },
    {
      "cell_type": "code",
      "source": [
        "# área para plotar o gráfico\n",
        "plt.figure(figsize=(8, 6))\n",
        "\n",
        "# seleção da variável e configuração da plotagem\n",
        "sns.boxplot(data=df['day'], color='#212738', width=0.6)\n",
        "\n",
        "# criação de variáveis para destacar as estatísticas mais importantes\n",
        "mediana_dia = df['day'].median()\n",
        "media_dia = df['day'].mean()\n",
        "q1_dia = df['day'].quantile(0.25)\n",
        "q3_dia = df['day'].quantile(0.75)\n",
        "\n",
        "# configuração das estatísticas mais importantes\n",
        "plt.axhline(mediana_dia, color='#F17300', linestyle='-.', linewidth=1.2, label=f'Mediana: {mediana_dia:.0f} dias')\n",
        "plt.axhline(media_dia, color='#86B0D5', linestyle='--', linewidth=1.2, label=f'Média: {media_dia:.0f} dias')\n",
        "plt.axhline(q1_dia, linestyle='none', label=f'1º Quartil: {q1_dia:.0f} dias')\n",
        "plt.axhline(q3_dia, linestyle='none', label=f'3º Quartil: {q3_dia:.0f} dias')\n",
        "plt.legend()\n",
        "\n",
        "# configuração dos aspectos do gráfico\n",
        "plt.title('Distribuição do último dia do mês de contato com o cliente')\n",
        "plt.ylabel('Último dia do mês de contato com o cliente')\n",
        "plt.rcParams['grid.color'] = '#DEE3E0'\n",
        "\n",
        "# visualização da plotagem\n",
        "plt.show()"
      ],
      "metadata": {
        "id": "LOvuUKGHfWxV"
      },
      "execution_count": null,
      "outputs": []
    },
    {
      "cell_type": "markdown",
      "source": [
        "- A distribuição do último dia do mês de contato com o cliente se mostra Simétrica, unimodal, bem dispersa (com poucos contatos no início do mês e próximo aos dias 10 e 25)\n",
        "- Com mediana e média iguais, a distribuição por idade se mostra balanceada, com 50% dos dias de contato entre os dias 8 e 21. Não existem outliers."
      ],
      "metadata": {
        "id": "gNBWWcS1fXHI"
      }
    },
    {
      "cell_type": "markdown",
      "source": [
        "##### 5.3.2.4.4. Análise - duração em segundos do último contato"
      ],
      "metadata": {
        "id": "1UzgMdYYjgU3"
      }
    },
    {
      "cell_type": "code",
      "source": [
        "# área para plotar o gráfico\n",
        "plt.figure(figsize=(16, 6))\n",
        "\n",
        "# seleção da variável e configuração da plotagem\n",
        "n, bins, patches = plt.hist(df['duration'], bins=10, edgecolor='#F2F4F3',\n",
        "                            color='#FFAE80')\n",
        "\n",
        "# adição de rótulos nos dados\n",
        "for i in range(len(n)):\n",
        "    if n[i] > 0:\n",
        "        plt.text(bins[i] + (bins[i+1] - bins[i])/2, n[i],\n",
        "                 str(int(n[i])),\n",
        "                 ha='center',\n",
        "                 va='bottom')\n",
        "\n",
        "# configuração dos aspectos do gráfico\n",
        "plt.title('Distribuição da duração do último contato com o cliente (em segundos)')\n",
        "plt.xlabel('Duração do último contato com o cliente (em segundos)')\n",
        "plt.ylabel('Frequência')\n",
        "\n",
        "# visualização da plotagem\n",
        "plt.show()"
      ],
      "metadata": {
        "id": "jKktglTJZ3qo"
      },
      "execution_count": null,
      "outputs": []
    },
    {
      "cell_type": "code",
      "source": [
        "# área para plotar o gráfico\n",
        "plt.figure(figsize=(8, 6))\n",
        "\n",
        "# seleção da variável e configuração da plotagem\n",
        "sns.boxplot(data=df['duration'], color='#212738', width=0.6)\n",
        "\n",
        "# criação de variáveis para destacar as estatísticas mais importantes\n",
        "mediana_duration = df['duration'].median()\n",
        "media_duration = df['duration'].mean()\n",
        "q1_duration = df['duration'].quantile(0.25)\n",
        "q3_duration = df['duration'].quantile(0.75)\n",
        "\n",
        "# variável de referência para ajuste de escala do eixo y\n",
        "iqr = q3_duration - q1_duration\n",
        "\n",
        "# configuração das estatísticas mais importantes e ajuste de escala no eixo y\n",
        "## escala do eixo y foi ajustada para melhor legibilidade em função de muitos outliers\n",
        "plt.axhline(mediana_duration, color='#F17300', linestyle='-.', linewidth=1.2, label=f'Mediana: {mediana_duration:.0f} segundos')\n",
        "plt.axhline(media_duration, color='#86B0D5', linestyle='--', linewidth=1.2, label=f'Média: {media_duration:.0f} segundos')\n",
        "plt.axhline(q1_duration, linestyle='none', label=f'1º Quartil: {q1_duration:.0f} segundos')\n",
        "plt.axhline(q3_duration, linestyle='none', label=f'3º Quartil: {q3_duration:.0f} segundos')\n",
        "plt.ylim([q1_duration - 3*iqr, q3_duration + 3*iqr])\n",
        "plt.legend()\n",
        "\n",
        "# configuração dos aspectos do gráfico\n",
        "plt.title('Distribuição da duração do último contato com o cliente (em segundos)')\n",
        "plt.ylabel('Duração do último contato com o cliente')\n",
        "plt.rcParams['grid.color'] = '#DEE3E0'\n",
        "\n",
        "# visualização da plotagem\n",
        "plt.show()"
      ],
      "metadata": {
        "id": "WtMLuC1fZ5zO"
      },
      "execution_count": null,
      "outputs": []
    },
    {
      "cell_type": "markdown",
      "source": [
        "- A distribuição da duração do último contato dos clientes se mostra Assimétrica Positiva, unimodal, concentrada nas faixas 0 (ligação não completada) a 620 segundos, demonstrando que as ligações tendem a ser mais curtas.\n",
        "- Com média acima da mediana, a distribuição por duração do último contato dos clientes se mostra desbalanceada, com 50% dos clientes permanecendo em ligação entre 103 e 319 segundos.\n",
        "- Poucos outliers proporcionalmente ao número total.\n",
        "\n",
        "*** OBS**: para essa dimensão específica, cabe destacar a descrição que o próprio autor do dataset inseriu (traduzido):\n",
        "*\"[...] este atributo afeta consideravelmente o resultado de saída (por exemplo, se duração=0, então y='não'). No entanto, a duração não é conhecida antes de um contato ser realizado. Além disso, após o término do contato, y é obviamente conhecido. Assim, este input só deve ser incluído para fins de benchmark e deve ser descartado se a intenção for ter um modelo preditivo realista.\"*"
      ],
      "metadata": {
        "id": "8_U9CAvYfnvx"
      }
    },
    {
      "cell_type": "markdown",
      "source": [
        "##### 5.3.2.4.5. Análise - contatos feitos"
      ],
      "metadata": {
        "id": "HWL5dLGLhP_b"
      }
    },
    {
      "cell_type": "code",
      "source": [
        "# área para plotar o gráfico\n",
        "plt.figure(figsize=(16, 6))\n",
        "\n",
        "# seleção da variável e configuração da plotagem\n",
        "n, bins, patches = plt.hist(df['campaign'], bins=10, edgecolor='#F2F4F3',\n",
        "                            color='#FFAE80')\n",
        "\n",
        "# adição de rótulos nos dados\n",
        "for i in range(len(n)):\n",
        "    if n[i] > 0:\n",
        "        plt.text(bins[i] + (bins[i+1] - bins[i])/2, n[i],\n",
        "                 str(int(n[i])),\n",
        "                 ha='center',\n",
        "                 va='bottom')\n",
        "\n",
        "# configuração dos aspectos do gráfico\n",
        "plt.title('Distribuição de contatos feitos com o cliente')\n",
        "plt.xlabel('Contatos feitos com o cliente')\n",
        "plt.ylabel('Frequência')\n",
        "\n",
        "# visualização da plotagem\n",
        "plt.show()"
      ],
      "metadata": {
        "id": "-kRtodFrNmqT"
      },
      "execution_count": null,
      "outputs": []
    },
    {
      "cell_type": "markdown",
      "source": [
        "Como o histograma traz poucas informações (a distribuição fica muito concentrada em uma faixa que é importante analisar melhor), entendo ser necessário usar um gráfico de barras simples para destacar melhor a distribuição entre 1 e 8 contatos"
      ],
      "metadata": {
        "id": "3BrJSx1FHHB6"
      }
    },
    {
      "cell_type": "code",
      "source": [
        "# área para plotar o gráfico\n",
        "plt.figure(figsize=(14,8))\n",
        "\n",
        "# seleção da variável e configuração da plotagem\n",
        "ax = df['campaign'].value_counts().sort_values(ascending=False).plot(kind='bar', color='#FFAE80')\n",
        "\n",
        "# adição de rótulo nos dados\n",
        "for container in ax.containers:\n",
        "    ax.bar_label(container, label_type='edge', padding=3, color='#212738')\n",
        "\n",
        "# configuração dos aspectos do gráfico (com ênfase na distribuição mostrada no histograma anterior)\n",
        "ax.set_title('Quantidade de contatos feitos com o cliente')\n",
        "ax.set_ylabel('Clientes')\n",
        "ax.set_xlabel('Quantidade de contatos')\n",
        "ax.set_xlim(-1,7.5)\n",
        "\n",
        "# visualização da plotagem\n",
        "plt.show()"
      ],
      "metadata": {
        "id": "O5X-r9qjG6JD"
      },
      "execution_count": null,
      "outputs": []
    },
    {
      "cell_type": "code",
      "source": [
        "# área para plotar o gráfico\n",
        "plt.figure(figsize=(8, 6))\n",
        "\n",
        "# seleção da variável e configuração da plotagem\n",
        "sns.boxplot(data=df['campaign'], color='#212738', width=0.6)\n",
        "\n",
        "# criação de variáveis para destacar as estatísticas mais importantes\n",
        "mediana_campaign = df['campaign'].median()\n",
        "media_campaign = df['campaign'].mean()\n",
        "q1_campaign = df['campaign'].quantile(0.25)\n",
        "q3_campaign = df['campaign'].quantile(0.75)\n",
        "\n",
        "# variável de referência para ajuste de escala do eixo y\n",
        "iqr = q3_campaign - q1_campaign\n",
        "\n",
        "# configuração das estatísticas mais importantes e ajuste de escala no eixo y\n",
        "## escala do eixo y foi ajustada para melhor legibilidade em função de muitos outliers\n",
        "plt.axhline(mediana_campaign, color='#F17300', linestyle='-.', linewidth=1.2, label=f'Mediana: {mediana_campaign:.0f} contatos')\n",
        "plt.axhline(media_campaign, color='#86B0D5', linestyle='--', linewidth=1.2, label=f'Média: {media_campaign:.0f} contatos')\n",
        "plt.axhline(q1_campaign, linestyle='none', label=f'1º Quartil: {q1_campaign:.0f} contatos')\n",
        "plt.axhline(q3_campaign, linestyle='none', label=f'3º Quartil: {q3_campaign:.0f} contatos')\n",
        "plt.ylim([q1_campaign - 3*iqr, q3_campaign + 3*iqr])\n",
        "plt.legend()\n",
        "\n",
        "# configuração dos aspectos do gráfico\n",
        "plt.title('Distribuição de contatos feitos com o cliente')\n",
        "plt.ylabel('Contatos feitos com o cliente')\n",
        "plt.rcParams['grid.color'] = '#DEE3E0'\n",
        "\n",
        "# visualização da plotagem\n",
        "plt.show()"
      ],
      "metadata": {
        "id": "KjsljpjxNm1g"
      },
      "execution_count": null,
      "outputs": []
    },
    {
      "cell_type": "markdown",
      "source": [
        "- A distribuição da contatos feitos com o cliente se mostra Assimétrica Positiva, unimodal, concentrada nas faixas de 1 a 8 contatos, com destaque claro para clientes com 1 ou 2 contatos.\n",
        "- Com média levemente acima da mediana, a distribuição por duração do último contato dos clientes se mostra desbalanceada, com cerca de 66,46% do total de contatos realizados concentrados entre 1 e 2 contatos.\n",
        "- Poucos outliers proporcionalmente ao número total."
      ],
      "metadata": {
        "id": "vimWW3pMC_HY"
      }
    },
    {
      "cell_type": "markdown",
      "source": [
        "##### 5.3.2.4.6. Análise - dias desde o último contato na última campanha"
      ],
      "metadata": {
        "id": "6rS_mwNKJ9pZ"
      }
    },
    {
      "cell_type": "code",
      "source": [
        "# área para plotar o gráfico\n",
        "plt.figure(figsize=(16, 6))\n",
        "\n",
        "# seleção da variável e configuração da plotagem\n",
        "n, bins, patches = plt.hist(df['pdays'], bins=10, edgecolor='#F2F4F3',\n",
        "                            color='#FFAE80')\n",
        "\n",
        "# adição de rótulos nos dados\n",
        "for i in range(len(n)):\n",
        "    if n[i] > 0:\n",
        "        plt.text(bins[i] + (bins[i+1] - bins[i])/2, n[i],\n",
        "                 str(int(n[i])),\n",
        "                 ha='center',\n",
        "                 va='bottom')\n",
        "\n",
        "# configuração dos aspectos do gráfico\n",
        "plt.title('Distribuição de dias desde o último contato com o cliente na última campanha')\n",
        "plt.xlabel('Dias desde o último contato com o cliente na última campanha')\n",
        "plt.ylabel('Frequência')\n",
        "\n",
        "# visualização da plotagem\n",
        "plt.show()"
      ],
      "metadata": {
        "id": "_B5PR8ufKUPq"
      },
      "execution_count": null,
      "outputs": []
    },
    {
      "cell_type": "markdown",
      "source": [
        "Assim como na análise de contatos, o histograma traz poucas informações (a distribuição fica muito concentrada em uma faixa que é importante analisar melhor), sendo necessário usar um gráfico de barras simples para destacar melhor a distribuição entre -1 e 86 dias"
      ],
      "metadata": {
        "id": "XFmBJPmdK1QO"
      }
    },
    {
      "cell_type": "code",
      "source": [
        "# área para plotar o gráfico\n",
        "plt.figure(figsize=(14,8))\n",
        "\n",
        "# seleção da variável e configuração da plotagem\n",
        "ax = df['pdays'].value_counts().sort_values(ascending=False).plot(kind='bar', color='#FFAE80')\n",
        "\n",
        "# adição de rótulo nos dados\n",
        "for container in ax.containers:\n",
        "    ax.bar_label(container, label_type='edge', padding=3, color='#212738')\n",
        "\n",
        "# configuração dos aspectos do gráfico (com ênfase na distribuição mostrada no histograma anterior)\n",
        "ax.set_title('Quantidade de dias desde o último contato com o cliente na última campanha')\n",
        "ax.set_ylabel('Clientes')\n",
        "ax.set_xlabel('Quantidade de dias')\n",
        "ax.set_xlim(-1,7.5)\n",
        "\n",
        "# visualização da plotagem\n",
        "plt.show()"
      ],
      "metadata": {
        "id": "_xbM9yvmK0uo"
      },
      "execution_count": null,
      "outputs": []
    },
    {
      "cell_type": "markdown",
      "source": [
        "Nessa visão, notamos ausência de contatos (por quaisquer motivos) feitos na última campanha em 81,74% da base."
      ],
      "metadata": {
        "id": "JFGJmy9VLm5D"
      }
    },
    {
      "cell_type": "code",
      "source": [
        "# área para plotar o gráfico\n",
        "plt.figure(figsize=(8, 6))\n",
        "\n",
        "# seleção da variável e configuração da plotagem\n",
        "sns.boxplot(data=df['pdays'], color='#212738', width=0.6)\n",
        "\n",
        "# criação de variáveis para destacar as estatísticas mais importantes\n",
        "mediana_diap = df['pdays'].median()\n",
        "media_diap = df['pdays'].mean()\n",
        "q1_diap = df['pdays'].quantile(0.25)\n",
        "q3_diap = df['pdays'].quantile(0.75)\n",
        "\n",
        "# configuração das estatísticas mais importantes\n",
        "plt.axhline(mediana_diap, color='#F17300', linestyle='-.', linewidth=1.2, label=f'Mediana: {mediana_diap:.0f} dias')\n",
        "plt.axhline(media_diap, color='#86B0D5', linestyle='--', linewidth=1.2, label=f'Média: {media_diap:.0f} dias')\n",
        "plt.axhline(q1_diap, linestyle='none', label=f'1º Quartil: {q1_diap:.0f} dias')\n",
        "plt.axhline(q3_diap, linestyle='none', label=f'3º Quartil: {q3_diap:.0f} dias')\n",
        "plt.legend()\n",
        "\n",
        "# configuração dos aspectos do gráfico\n",
        "plt.title('Distribuição do último dia do mês de contato com o cliente')\n",
        "plt.ylabel('Último dia do mês de contato com o cliente')\n",
        "plt.rcParams['grid.color'] = '#DEE3E0'\n",
        "\n",
        "# visualização da plotagem\n",
        "plt.show()"
      ],
      "metadata": {
        "id": "-Fj79tp0KUBX"
      },
      "execution_count": null,
      "outputs": []
    },
    {
      "cell_type": "markdown",
      "source": [
        "Levando em consideração o contexto dessa dimensão (>81% da base sem registro de contatos), praticamente todos os demais valores se tornam outliers, o que inviabiliza a análise de insights."
      ],
      "metadata": {
        "id": "ovutJj6XKUkm"
      }
    },
    {
      "cell_type": "markdown",
      "source": [
        "##### 5.3.2.4.7. Análise - contatos feitos antes da campanha atual"
      ],
      "metadata": {
        "id": "cnZ_gnHtNP7Q"
      }
    },
    {
      "cell_type": "code",
      "source": [
        "# área para plotar o gráfico\n",
        "plt.figure(figsize=(14, 6))\n",
        "\n",
        "# seleção da variável e configuração da plotagem\n",
        "n, bins, patches = plt.hist(df['previous'], bins=10, edgecolor='#F2F4F3', color='#FFAE80')\n",
        "\n",
        "# adição de rótulos nos dados\n",
        "for i in range(len(n)):\n",
        "    if n[i] > 0:\n",
        "        plt.text(bins[i] + (bins[i+1] - bins[i])/2, n[i],\n",
        "                 str(int(n[i])),\n",
        "                 ha='center',\n",
        "                 va='bottom')\n",
        "\n",
        "# configuração dos aspectos do gráfico\n",
        "plt.title('Distribuição de contatos feitos com o cliente antes da campanha atual')\n",
        "plt.xlabel('Contatos feitos com o cliente antes da campanha atual')\n",
        "plt.ylabel('Frequência')\n",
        "\n",
        "# visualização da plotagem\n",
        "plt.show()"
      ],
      "metadata": {
        "id": "2zq65HoaNat0"
      },
      "execution_count": null,
      "outputs": []
    },
    {
      "cell_type": "markdown",
      "source": [
        "Também para essa análise, o histograma traz poucas informações (a distribuição fica muito concentrada em uma faixa que é importante analisar melhor), sendo necessário usar um gráfico de barras simples para destacar melhor a distribuição entre 0 e 13 contatos"
      ],
      "metadata": {
        "id": "xIFiIk38OfpK"
      }
    },
    {
      "cell_type": "code",
      "source": [
        "# área para plotar o gráfico\n",
        "plt.figure(figsize=(14,8))\n",
        "\n",
        "# seleção da variável e configuração da plotagem\n",
        "ax = df['previous'].value_counts().sort_values(ascending=False).plot(kind='bar', color='#FFAE80')\n",
        "\n",
        "# adição de rótulo nos dados\n",
        "for container in ax.containers:\n",
        "    ax.bar_label(container, label_type='edge', padding=3, color='#212738')\n",
        "\n",
        "# configuração dos aspectos do gráfico (com ênfase na distribuição mostrada no histograma anterior)\n",
        "ax.set_title('Contatos feitos com o cliente antes da campanha atual')\n",
        "ax.set_ylabel('Clientes')\n",
        "ax.set_xlabel('Contatos feitos')\n",
        "ax.set_xlim(-1,7.5)\n",
        "\n",
        "# visualização da plotagem\n",
        "plt.show()"
      ],
      "metadata": {
        "id": "dCs_Xtj-OsYr"
      },
      "execution_count": null,
      "outputs": []
    },
    {
      "cell_type": "markdown",
      "source": [
        "Com forte relação com a análise anterior, temos o mesmo percentual com 0 contatos feitos antes da campanha atual: 81,74%"
      ],
      "metadata": {
        "id": "feGrVAUFPCu3"
      }
    },
    {
      "cell_type": "code",
      "source": [
        "# área para plotar o gráfico\n",
        "plt.figure(figsize=(8, 8))\n",
        "\n",
        "# seleção da variável e configuração da plotagem\n",
        "sns.boxplot(data=df['previous'], color='#212738', width=0.6)\n",
        "\n",
        "# criação de variáveis para destacar as estatísticas mais importantes\n",
        "mediana_cont_ant = df['previous'].median()\n",
        "media_cont_ant = df['previous'].mean()\n",
        "q1_cont_ant = df['previous'].quantile(0.25)\n",
        "q3_cont_ant = df['previous'].quantile(0.75)\n",
        "\n",
        "# configuração das estatísticas mais importantes\n",
        "plt.axhline(mediana_cont_ant, color='#F17300', linestyle='-.', linewidth=1.2, label=f'Mediana: {mediana_cont_ant:.0f} anos')\n",
        "plt.axhline(media_cont_ant, color='#86B0D5', linestyle='--', linewidth=1.2, label=f'Média: {media_cont_ant:.1f} anos')\n",
        "plt.axhline(q1_cont_ant, linestyle='none', label=f'1º Quartil: {q1_cont_ant:.0f} anos')\n",
        "plt.axhline(q3_cont_ant, linestyle='none', label=f'3º Quartil: {q3_cont_ant:.0f} anos')\n",
        "plt.legend()\n",
        "\n",
        "# configuração dos aspectos do gráfico\n",
        "plt.title('Distribuição contatos feitos com o cliente antes da campanha atual')\n",
        "plt.ylabel('Contatos feitos com o cliente antes da campanha atual')\n",
        "plt.rcParams['grid.color'] = '#DEE3E0'\n",
        "\n",
        "# visualização da plotagem\n",
        "plt.show()"
      ],
      "metadata": {
        "id": "wxGen8GxNbB6"
      },
      "execution_count": null,
      "outputs": []
    },
    {
      "cell_type": "markdown",
      "source": [
        "Levando em consideração o contexto dessa dimensão (>81% da base sem registro de contatos), praticamente todos os demais valores se tornam outliers, o que inviabiliza a análise de insights."
      ],
      "metadata": {
        "id": "S_sGlJe3NbWi"
      }
    },
    {
      "cell_type": "markdown",
      "source": [
        "# 6. Tratamento de dados e Pipeline de pré-processamento\n",
        "\n",
        "Nessa etapa, os dados originais serão tratados de modo a serem redimensionados para melhor adequação à construção dos modelos em etapa posterior. Aqui, o desbalanceamento do dataset é tratado para não enviesar as análises e proporcionar maior qualidade na construção dos modelos; ademais, o pipeline de pré-processamento garante maior reprodutibilidade para replicação futura."
      ],
      "metadata": {
        "id": "h5YcD9R3sI86"
      }
    },
    {
      "cell_type": "markdown",
      "source": [
        "## 6.1. Separação em treino e teste geral\n",
        "\n",
        "De início, é necessário separar o dataset em grupos de treino e teste para garantir avaliação e performance adequados dos modelos e diminuir a possibilidade de overfitting.\n",
        "\n",
        "Também, é necessário usar o LabelEncoder para transformar a variável target y em binário antes dos pipelines.\n",
        "\n",
        "Utilizei a mesma estrutura do template da Sprint 1 pois garante uma estrutura importante: prepara os dados para a construção dos modelos, separando os atributos (x) da variável target (y), e depois divide o dataset em treino (80%) e teste (20%)."
      ],
      "metadata": {
        "id": "DDsvi3CaNnWY"
      }
    },
    {
      "cell_type": "code",
      "source": [
        "# separação das dimensões de entrada (x) e variável target (y) - holdout\n",
        "X = df.drop('y', axis=1)\n",
        "y = df['y']\n",
        "\n",
        "# transformação da variável target y de yes/no para 1/0 usando LabelEncoder\n",
        "le = LabelEncoder()\n",
        "y_le = le.fit_transform(y)\n",
        "\n",
        "# divisão dos dados em conjuntos de treino e teste na proporção 80/20 (convenção)\n",
        "# stratify para correta divisão de 1/0 da variável target\n",
        "X_train, X_test, y_train, y_test = train_test_split(X, y_le, test_size=0.2, random_state=SEED, stratify=y_le)\n",
        "\n",
        "# validação da distribuição da variável target y para entendimento do nivel de\n",
        "# desbalanceamento e devido tratamento posterior\n",
        "print(\"Diagnóstico preliminar:\\n\")\n",
        "print(f\"Instâncias e dimensões de X_train: {X_train.shape}\")\n",
        "print(f\"Distribuição de y_train: {np.unique(y_train, return_counts=True)}\")\n",
        "print(f\"Proporção de classe 1 (yes): {y_train.mean()*100:.2f}%\")"
      ],
      "metadata": {
        "id": "YYGxHu4LNppb"
      },
      "execution_count": null,
      "outputs": []
    },
    {
      "cell_type": "markdown",
      "source": [
        "## 6.2. Pipelines para pré-processamento - transformação de dimensões\n",
        "\n",
        "As dimensões numéricas e categóricas que necessitam de algum tipo de adequação serão transformadas e configuradas em pipelines utilizando OneHotEncoder, OrdinalEncoder e StandardScaler. Essas transformações, então, serão endereçadas em um único pipeline de pré-processamento."
      ],
      "metadata": {
        "id": "aH70Ov4X6hnx"
      }
    },
    {
      "cell_type": "code",
      "source": [
        "# identificação de dimensões numéricas e categóricas\n",
        "cols_numericas = ['age', 'balance', 'day', 'duration', 'campaign', 'pdays', 'previous']\n",
        "cols_cat_nom = ['job', 'marital', 'default', 'housing', 'loan', 'contact', 'poutcome']\n",
        "cols_cat_ord = ['education', 'month']\n",
        "\n",
        "# pipeline para dimensões numéricas com padronização (mais indicado para tratar\n",
        "# os outliers do dataset), usando mediana como substituto para possíveis dados\n",
        "# ausentes\n",
        "transformador_num = Pipeline(steps=[\n",
        "    ('imputer', SimpleImputer(strategy='median')),\n",
        "    ('scaler', StandardScaler())\n",
        "])\n",
        "\n",
        "# pipeline para dimensões categóricas nominais com OneHotEncoder (mais indicado\n",
        "# para tratar as dimensões que não possuem ordem natural), usando valor\n",
        "# desconhecido no caso de dados ausentes; nesse caso, mesmo que as dimensões\n",
        "# 'contact' e 'poutcome' possuam consideravelmente dados ausentes, determinei\n",
        "# sparse_output=false pelo tamanho do dataset (< 100 mil instâncias)\n",
        "transformador_cat_nom = Pipeline(steps=[\n",
        "    ('imputer', SimpleImputer(strategy='constant', fill_value='unknown')),\n",
        "    ('onehot', OneHotEncoder(handle_unknown='ignore', sparse_output=False))\n",
        "])\n",
        "\n",
        "# pipeline para dimensões categóricas ordinais com OrdinalEncoder (mais indicado\n",
        "# para tratar as dimensões que possuem ordem natural), usando valor\n",
        "# desconhecido no caso de dados ausentes\n",
        "transformador_cat_ord = Pipeline(steps=[\n",
        "    ('imputer', SimpleImputer(strategy='constant', fill_value='unknown')),\n",
        "    ('label', OrdinalEncoder(handle_unknown='use_encoded_value', unknown_value=-1))\n",
        "])\n",
        "\n",
        "# combinação de todos os transformadores em um único pré-processador agregador\n",
        "# de pipelines\n",
        "preprocessador = ColumnTransformer(\n",
        "    transformers=[\n",
        "        ('num', transformador_num, cols_numericas),\n",
        "        ('cat_nom', transformador_cat_nom, cols_cat_nom),\n",
        "        ('cat_ord', transformador_cat_ord, cols_cat_ord)\n",
        "    ])"
      ],
      "metadata": {
        "id": "2cfOntVx6-k-"
      },
      "execution_count": null,
      "outputs": []
    },
    {
      "cell_type": "markdown",
      "source": [
        "## 6.3. Pipeline para definição e treinamento do baseline\n",
        "\n",
        "Com os tratamentos devidos já realizados nas dimensões do dataset, é crucial que o projeto possua uma etapa de baseline para estabelecer os resultados basilares de modelos sem otimização, ou seja, valores de referência para comparação com os modelos otimizados em etapas posteriores. Aqui, utilizo o DummyClassifier com o pré-processador da etapa anterior.\n",
        "\n",
        "Depois, realizo um rápido teste para validar a performance do baseline que será a âncora de viabilidade ou não de otimizações posteriores."
      ],
      "metadata": {
        "id": "HfN7oND0etMT"
      }
    },
    {
      "cell_type": "code",
      "source": [
        "# pipeline que integra o preprocessador com o DummyClassifier\n",
        "baseline_dc = Pipeline(steps=[\n",
        "    ('preprocessor', preprocessador),\n",
        "    ('classifier', DummyClassifier(strategy='stratified', random_state=SEED))\n",
        "])\n",
        "\n",
        "# treinamento e teste rápido do baseline para posterior comparação concreta com\n",
        "# os modelos otimizados\n",
        "baseline_dc.fit(X_train, y_train)\n",
        "y_pred_baseline = baseline_dc.predict(X_test)\n",
        "print(f\"F1-Score Baseline: {f1_score(y_test, y_pred_baseline):.4f}\")\n",
        "print(f\"Previsões únicas do baseline: {np.unique(y_pred_baseline)}\")"
      ],
      "metadata": {
        "id": "CvSUF7vVfFht"
      },
      "execution_count": null,
      "outputs": []
    },
    {
      "cell_type": "markdown",
      "source": [
        "## 6.4. Pipelines para construção dos modelos - ensembles\n",
        "\n",
        "Ajustado o pré-processamento, a construção dos modelos será feita via pipelines acoplando o pré-processador da etapa anterior. Os ensembles de boosting LGBM e XGBoost foram escolhidos para essa construção por possuirem alta performance em datasets como o desse projeto; segundo pesquisa própria, ambos são altamente usados hoje e conseguem performar bem com uso relativamente baixo de processamento."
      ],
      "metadata": {
        "id": "yGmyGMX0n42T"
      }
    },
    {
      "cell_type": "markdown",
      "source": [
        "### 6.4.1 Ensemble 1 - LGBM\n",
        "\n",
        "O primeiro modelo descrito será o LGBM, referência para esse projeto em virtude dos seus altos ganhos sob a necessidade baixa de recursos para execução, além do seu desenho atender perfeitamente o tipo de problema proposto pelo dataset."
      ],
      "metadata": {
        "id": "KqeipaJMuPoe"
      }
    },
    {
      "cell_type": "code",
      "source": [
        "# pipeline que integra o preprocessador com o LGBM\n",
        "# esse modelo usa class_weight=balanced para tratar do desbalanceamento do\n",
        "# dataset, n_estimators alto para otimização posterior, metric=binary_logloss\n",
        "# para melhor avaliação na etapa de treinamento, boosting_type padrão e\n",
        "# verbosity=0 para melhor legibilidade do console\n",
        "modelo_lgbm = Pipeline(steps=[\n",
        "    ('preprocessor', preprocessador),\n",
        "    ('classifier', LGBMClassifier(\n",
        "        random_state=SEED,\n",
        "        class_weight='balanced',\n",
        "        n_estimators=10000,\n",
        "        metric='binary_logloss',\n",
        "        boosting_type='gbdt',\n",
        "        verbose=-1\n",
        "    ))\n",
        "])"
      ],
      "metadata": {
        "id": "SGfmWhR4rGt9"
      },
      "execution_count": null,
      "outputs": []
    },
    {
      "cell_type": "markdown",
      "source": [
        "### 6.4.2. Ensemble 2 - XGBoost\n",
        "\n",
        "O segundo modelo descrito será o XGBoost, também referência para esse projeto em virtude mesmos pontos positivos do LGBM. Ele será utilizado para efeitos de comparação de performance."
      ],
      "metadata": {
        "id": "-IlqM9Ge_AOl"
      }
    },
    {
      "cell_type": "code",
      "source": [
        "# pipeline que integra o preprocessador com o XGBoost\n",
        "# esse modelo usa n_estimators alto para otimização posterior, eval_metric=logloss\n",
        "# para melhor avaliação na etapa de treinamento, label_encoder=False para evitar\n",
        "# warnings e verbosity=0 para melhor legibilidade do console\n",
        "modelo_xgb = Pipeline(steps=[\n",
        "    ('preprocessor', preprocessador),\n",
        "    ('classifier', XGBClassifier(\n",
        "        random_state=SEED,\n",
        "        n_estimators=10000,\n",
        "        eval_metric='logloss',\n",
        "        early_stopping_rounds=50,\n",
        "        use_label_encoder=False,\n",
        "        verbosity=0\n",
        "    ))\n",
        "])"
      ],
      "metadata": {
        "id": "hzVaICDx_AuD"
      },
      "execution_count": null,
      "outputs": []
    },
    {
      "cell_type": "markdown",
      "source": [
        "# 7. Otimização de hiperparâmetros com cross-validation e folds\n",
        "\n",
        "Nessa seção, utilizo GridSearchCV para testar todas as possibilidades setadas em um grid e identificar os melhores hiperparâmetros possíveis (já aplicando o conceito de validação cruzada e separando os dados em folds via StratifiedKFold). Esse código utiliza um mecanismo de early stop para evitar que os pipelines de LGBM e XGBoost validem árvores desnecessárias e parem a execução no melhor n_estimator possível para boa performance."
      ],
      "metadata": {
        "id": "SrM2rRXvlZYv"
      }
    },
    {
      "cell_type": "markdown",
      "source": [
        "## 7.1. Separação em treino e teste para otimização\n",
        "\n",
        "Para essa etapa, é importante separar parte do conjunto de treino/teste (X/Y já definidos anteriormente) para aumentar a segurança na performance e prevenção de data leakage e overfitting. Aqui, o código usa parte das bases para buscar os melhores hiperparâmetros possíveis a serem utilizados nos modelos otimizados."
      ],
      "metadata": {
        "id": "r3k_KKLOsXqP"
      }
    },
    {
      "cell_type": "code",
      "source": [
        "# utilizo parte do treino/teste (15% de X/Y) para criar um mecanismo de early stop\n",
        "# que garanta o melhor número possível de iterações nos modelos\n",
        "X_fit, X_val, y_fit, y_val = train_test_split(X_train, y_train, test_size=0.15, random_state=SEED, stratify=y_train)\n",
        "\n",
        "# ajuste nos dados de treino para otimizações posteriores e prevenção de\n",
        "# data leakage\n",
        "preprocessador.fit(X_fit, y_fit)\n",
        "X_val_processed = preprocessador.transform(X_val)"
      ],
      "metadata": {
        "id": "qUrpq7_s2_i8"
      },
      "execution_count": null,
      "outputs": []
    },
    {
      "cell_type": "markdown",
      "source": [
        "## 7.2. Otimização para LGBM\n",
        "\n",
        "Como algoritmo referência, a otimização é ajustada primeiro para o LGBM."
      ],
      "metadata": {
        "id": "PJXMNvYL2t_k"
      }
    },
    {
      "cell_type": "code",
      "source": [
        "# registro do momento inicial de execução desse bloco de código\n",
        "start_time = time.time()\n",
        "\n",
        "# configuração do CV com 5 folds para equilibrar performance e necessidade de\n",
        "# capacidade computacional e shuffle=True para melhorar a aleatoriedade; setado\n",
        "# separadamente para atender ao GridSearchCV\n",
        "cv_lgbm = StratifiedKFold(n_splits=3, shuffle=True, random_state=SEED)\n",
        "\n",
        "# definição dos parâmetros para o GridSearchCV baseados nas indicações da\n",
        "# literatura dos algoritmos (LGBM e XGBoost) e no contexto do dataset do projeto\n",
        "# onde max_depth balanceia árvores rasas e profundas de modo a evitar\n",
        "# overfitting, learning_rate aceitável levando em conta o early stop e subsample\n",
        "# para melhorar a possibilidade de aleatoriedade e diminuir overfitting\n",
        "params_grid_lgbm = {\n",
        "    'classifier__max_depth': [-1],\n",
        "    'classifier__learning_rate': [0.05],\n",
        "    'classifier__subsample': [0.8]\n",
        "}\n",
        "\n",
        "# configuração dos parâmetros de fit para o mecanismo de early stop, setando\n",
        "# 50 iterações como máximo para identificar o ponto ideal, log_evaluation em -1\n",
        "# para melhor legibilidade do log e binary_logloss para monitorar o desempenho\n",
        "# da otimização\n",
        "fit_params_lgbm = {\n",
        "    'classifier__callbacks': [\n",
        "        early_stopping(stopping_rounds=50),\n",
        "        log_evaluation(-1)\n",
        "    ],\n",
        "    'classifier__eval_set': [(X_val_processed, y_val)],\n",
        "    'classifier__eval_metric': 'binary_logloss',\n",
        "}\n",
        "\n",
        "# configuração do GridSearchCV para LGBM com scoring=f1 (ideal para dataset\n",
        "# desbalanceado com foco em equilíbrio de dimensões majoritárias e minoritárias),\n",
        "# n_jobs=-1 para usar todos os processadores disponíveis em cada fold e\n",
        "# verbose=1 para acompanhar o progresso no log\n",
        "grid_search_lgbm_fit = GridSearchCV(\n",
        "    estimator=modelo_lgbm,\n",
        "    param_grid=params_grid_lgbm,\n",
        "    cv=cv_lgbm,\n",
        "    scoring='f1',\n",
        "    n_jobs=-1,\n",
        "    verbose=1\n",
        ")\n",
        "\n",
        "# execução do GridSearchCV com os parâmetros necessários para early stop\n",
        "grid_search_lgbm_fit.fit(X_fit, y_fit, **fit_params_lgbm)\n",
        "\n",
        "# print dos melhores hiperparâmetros e score f1 após treino\n",
        "print(f\"\\nMelhores parâmetros: {grid_search_lgbm_fit.best_params_}\")\n",
        "print(f\"\\nMelhor score (F1) de validação cruzada: {grid_search_lgbm_fit.best_score_:.4f}\")\n",
        "\n",
        "# registro do momento final de execução desse bloco de código e print da\n",
        "# diferença para o registro do momento inicial; particularmente útil para os\n",
        "# testes com os hiperparâmetros de otimização\n",
        "execution_time = time.time() - start_time\n",
        "print(f\"Tempo de execução do GridSearch: {execution_time:.2f} segundos\")"
      ],
      "metadata": {
        "id": "vkV2GzI8gmCC"
      },
      "execution_count": null,
      "outputs": []
    },
    {
      "cell_type": "markdown",
      "source": [
        "### 7.2.1. Log de testes e justificativa de hiperparâmetros escolhidos - LGBM\n",
        "\n",
        "Essa seção compilará os testes realizados com n_splits diferentes a fim de justificar a escolha dos hiperparâmetros definidos nas seções de otimização. Esses testes levaram em conta o F1-Score obtido VERSUS tempo total de execução, onde procurei não prolongar além do necessário em virtude do tamanho do dataset."
      ],
      "metadata": {
        "id": "DK2qWnzht5HF"
      }
    },
    {
      "cell_type": "markdown",
      "source": [
        "#### Teste com n_splits = 2\n",
        "\n",
        "parâmetros para o grid:\n",
        "\n",
        "'classifier__max_depth': [5, 10, -1]\n",
        "\n",
        "'classifier__learning_rate': [0.05, 0.1]\n",
        "\n",
        "'classifier__subsample': [0.8, 1.0]\n",
        "\n",
        "\n",
        "---\n",
        "\n",
        "\n",
        "Fitting 2 folds for each of 12 candidates, totalling 24 fits\n",
        "\n",
        "Training until validation scores don't improve for 50 rounds\n",
        "Early stopping, best iteration is:\n",
        "[1567]\tvalid_0's binary_logloss: 0.273362\n",
        "\n",
        "Melhores parâmetros: {'classifier__learning_rate': 0.05, 'classifier__max_depth': 5, 'classifier__subsample': 0.8}\n",
        "\n",
        "Melhor score (F1) de validação cruzada: **0.6054**\n",
        "\n",
        "Tempo de execução do GridSearch: **49.66** segundos"
      ],
      "metadata": {
        "id": "8aX6DRauu-B0"
      }
    },
    {
      "cell_type": "markdown",
      "source": [
        "#### Teste com n_splits = 3  |  ✅Melhor resultado (**F1-Score = 0.6142**)\n",
        "\n",
        "parâmetros para o grid:\n",
        "\n",
        "'classifier__max_depth': [5, 10, -1]\n",
        "\n",
        "'classifier__learning_rate': [0.05, 0.1]\n",
        "\n",
        "'classifier__subsample': [0.8, 1.0]\n",
        "\n",
        "\n",
        "---\n",
        "\n",
        "\n",
        "Fitting 3 folds for each of 12 candidates, totalling 36 fits\n",
        "\n",
        "Training until validation scores don't improve for 50 rounds\n",
        "Early stopping, best iteration is:\n",
        "[1543]\tvalid_0's binary_logloss: 0.253268\n",
        "\n",
        "Melhores parâmetros: {'classifier__learning_rate': 0.05, 'classifier__max_depth': -1, 'classifier__subsample': 0.8}\n",
        "\n",
        "Melhor score (F1) de validação cruzada: **0.6142**\n",
        "\n",
        "Tempo de execução do GridSearch: **74.25** segundos"
      ],
      "metadata": {
        "id": "isaeHr40vTtB"
      }
    },
    {
      "cell_type": "markdown",
      "source": [
        "#### Teste com n_splits = 4\n",
        "\n",
        "parâmetros para o grid:\n",
        "\n",
        "'classifier__max_depth': [5, 10, -1]\n",
        "\n",
        "'classifier__learning_rate': [0.05, 0.1]\n",
        "\n",
        "'classifier__subsample': [0.8, 1.0]\n",
        "\n",
        "\n",
        "---\n",
        "\n",
        "\n",
        "Fitting 4 folds for each of 12 candidates, totalling 48 fits\n",
        "\n",
        "Training until validation scores don't improve for 50 rounds\n",
        "Early stopping, best iteration is:\n",
        "[1543]\tvalid_0's binary_logloss: 0.253268\n",
        "\n",
        "Melhores parâmetros: {'classifier__learning_rate': 0.05, 'classifier__max_depth': -1, 'classifier__subsample': 0.8}\n",
        "\n",
        "Melhor score (F1) de validação cruzada: **0.6129**\n",
        "\n",
        "Tempo de execução do GridSearch: **112.95** segundos"
      ],
      "metadata": {
        "id": "iyZ1t1VZvopk"
      }
    },
    {
      "cell_type": "markdown",
      "source": [
        "#### Teste com n_splits = 5\n",
        "\n",
        "parâmetros para o grid:\n",
        "\n",
        "'classifier__max_depth': [5, 10, -1]\n",
        "\n",
        "'classifier__learning_rate': [0.05, 0.1]\n",
        "\n",
        "'classifier__subsample': [0.8, 1.0]\n",
        "\n",
        "\n",
        "---\n",
        "\n",
        "\n",
        "Fitting 5 folds for each of 12 candidates, totalling 60 fits\n",
        "\n",
        "Training until validation scores don't improve for 50 rounds\n",
        "Early stopping, best iteration is:\n",
        "[891]\tvalid_0's binary_logloss: 0.254204\n",
        "\n",
        "Melhores parâmetros: {'classifier__learning_rate': 0.1, 'classifier__max_depth': 10, 'classifier__subsample': 0.8}\n",
        "\n",
        "Melhor score (F1) de validação cruzada: **0.6111**\n",
        "\n",
        "Tempo de execução do GridSearch: **140.70** segundos"
      ],
      "metadata": {
        "id": "YcMeIvU6wyGK"
      }
    },
    {
      "cell_type": "markdown",
      "source": [
        "## 7.3. Otimização para XGBoost\n",
        "\n",
        "Para manter a equivalência de algoritmos, é feita a otimização do XGBoost"
      ],
      "metadata": {
        "id": "fyuyFj66IQaq"
      }
    },
    {
      "cell_type": "code",
      "source": [
        "# registro do momento inicial de execução desse bloco de código\n",
        "start_time = time.time()\n",
        "\n",
        "# configuração do CV com 3 folds para equilibrar performance e necessidade de\n",
        "# capacidade computacional e shuffle=True para melhorar a aleatoriedade; setado\n",
        "# separadamente para atender ao GridSearchCV de ambos: LGBM e XGBoost\n",
        "cv_xgb = StratifiedKFold(n_splits=5, shuffle=True, random_state=SEED)\n",
        "\n",
        "# definição dos parâmetros para o GridSearchCV baseados nas indicações da\n",
        "# literatura dos algoritmos (LGBM e XGBoost) e no contexto do dataset do projeto\n",
        "# onde max_depth balanceia árvores rasas e profundas de modo a evitar\n",
        "# overfitting, learning_rate aceitável levando em conta o early stop, subsample\n",
        "# para melhorar a possibilidade de aleatoriedade e diminuir overfitting,\n",
        "# colsample_bytree para otimizar generalização e os regs alpha e lambda (L1 e L2)\n",
        "# para mais otimização em evitar overfitting\n",
        "params_grid_xgb = {\n",
        "    'classifier__max_depth': [7],\n",
        "    'classifier__learning_rate': [0.1],\n",
        "    'classifier__subsample': [0.8],\n",
        "    'classifier__colsample_bytree': [0.9],\n",
        "    'classifier__reg_alpha': [1],\n",
        "    'classifier__reg_lambda': [1]\n",
        "}\n",
        "\n",
        "# configuração dos parâmetros de fit para o mecanismo de early stop, setando\n",
        "# 50 iterações como máximo para identificar o ponto ideal e verbose = False\n",
        "# para melhor legibilidade do log\n",
        "fit_params_xgb = {\n",
        "    'classifier__eval_set': [(X_val_processed, y_val)],\n",
        "    'classifier__verbose': False\n",
        "}\n",
        "\n",
        "# configuração do GridSearchCV para XGB com scoring=f1 (ideal para dataset\n",
        "# desbalanceado com foco em equilíbrio de dimensões majoritárias e minoritárias),\n",
        "# n_jobs=1 para usar 1 processador em cada fold (validei que seria melhor para)\n",
        "# esse algoritmo), verbose=1 para acompanhar o progresso no log e\n",
        "# return_train_score=True para auxiliar na identificação de possível overfitting\n",
        "# no log\n",
        "grid_search_xgb_fit = GridSearchCV(\n",
        "    estimator=modelo_xgb,\n",
        "    param_grid=params_grid_xgb,\n",
        "    cv=cv_xgb,\n",
        "    scoring='f1',\n",
        "    n_jobs=1,\n",
        "    verbose=1,\n",
        "    return_train_score=True\n",
        ")\n",
        "\n",
        "# execução do GridSearchCV com os parâmetros necessários para early stop\n",
        "grid_search_xgb_fit.fit(X_fit, y_fit, **fit_params_xgb)\n",
        "\n",
        "# print dos melhores hiperparâmetros e score f1 após treino\n",
        "print(f\"\\nMelhores parâmetros: {grid_search_xgb_fit.best_params_}\")\n",
        "print(f\"\\nMelhor score (F1) de validação cruzada: {grid_search_xgb_fit.best_score_:.4f}\")\n",
        "\n",
        "# registro do momento final de execução desse bloco de código e print da\n",
        "# diferença para o registro do momento inicial; particularmente útil para os\n",
        "# testes com os hiperparâmetros de otimização\n",
        "execution_time = time.time() - start_time\n",
        "print(f\"Tempo de execução do GridSearch: {execution_time:.2f} segundos\")"
      ],
      "metadata": {
        "id": "TIdkxHu7KXK6"
      },
      "execution_count": null,
      "outputs": []
    },
    {
      "cell_type": "markdown",
      "source": [
        "### 7.3.1. Log de testes e justificativa de hiperparâmetros escolhidos - XGBoost\n",
        "\n",
        "Essa seção compilará os testes realizados com n_splits diferentes a fim de justificar a escolha dos hiperparâmetros definidos nas seções de otimização. Esses testes levaram em conta o F1-Score obtido VERSUS tempo total de execução, onde procurei não prolongar além do necessário em virtude do tamanho do dataset."
      ],
      "metadata": {
        "id": "VYIfXuEnwbSt"
      }
    },
    {
      "cell_type": "markdown",
      "source": [
        "#### Teste com n_splits = 2\n",
        "\n",
        "parâmetros para o grid:\n",
        "\n",
        "'classifier__max_depth': [3, 7]\n",
        "\n",
        "'classifier__learning_rate': [0.05, 0.1]\n",
        "\n",
        "'classifier__subsample': [0.8, 1.0]\n",
        "\n",
        "'classifier__colsample_bytree': [0.9]\n",
        "\n",
        "'classifier__reg_alpha': [0, 1]\n",
        "\n",
        "'classifier__reg_lambda': [1]\n",
        "\n",
        "\n",
        "---\n",
        "\n",
        "\n",
        "Fitting 2 folds for each of 16 candidates, totalling 32 fits\n",
        "\n",
        "Melhores parâmetros: {'classifier__colsample_bytree': 0.9, 'classifier__learning_rate': 0.1, 'classifier__max_depth': 7, 'classifier__reg_alpha': 0, 'classifier__reg_lambda': 1, 'classifier__subsample': 0.8}\n",
        "\n",
        "Melhor score (F1) de validação cruzada: **0.5306**\n",
        "\n",
        "Tempo de execução do GridSearch: **35.20** segundos"
      ],
      "metadata": {
        "id": "yJfsdK7wwnVl"
      }
    },
    {
      "cell_type": "markdown",
      "source": [
        "#### Teste com n_splits = 3\n",
        "\n",
        "parâmetros para o grid:\n",
        "\n",
        "'classifier__max_depth': [3, 7]\n",
        "\n",
        "'classifier__learning_rate': [0.05, 0.1]\n",
        "\n",
        "'classifier__subsample': [0.8, 1.0]\n",
        "\n",
        "'classifier__colsample_bytree': [0.9]\n",
        "\n",
        "'classifier__reg_alpha': [0, 1]\n",
        "\n",
        "'classifier__reg_lambda': [1]\n",
        "\n",
        "\n",
        "---\n",
        "\n",
        "\n",
        "Fitting 3 folds for each of 16 candidates, totalling 48 fits\n",
        "\n",
        "Melhores parâmetros: {'classifier__colsample_bytree': 0.9, 'classifier__learning_rate': 0.05, 'classifier__max_depth': 7, 'classifier__reg_alpha': 1, 'classifier__reg_lambda': 1, 'classifier__subsample': 0.8}\n",
        "\n",
        "Melhor score (F1) de validação cruzada: **0.5450**\n",
        "\n",
        "Tempo de execução do GridSearch: **67.84** segundos"
      ],
      "metadata": {
        "id": "ucwBpJaBxTxR"
      }
    },
    {
      "cell_type": "markdown",
      "source": [
        "#### Teste com n_splits = 4\n",
        "\n",
        "parâmetros para o grid:\n",
        "\n",
        "'classifier__max_depth': [3, 7]\n",
        "\n",
        "'classifier__learning_rate': [0.05, 0.1]\n",
        "\n",
        "'classifier__subsample': [0.8, 1.0]\n",
        "\n",
        "'classifier__colsample_bytree': [0.9]\n",
        "\n",
        "'classifier__reg_alpha': [0, 1]\n",
        "\n",
        "'classifier__reg_lambda': [1]\n",
        "\n",
        "\n",
        "---\n",
        "\n",
        "\n",
        "Fitting 4 folds for each of 16 candidates, totalling 64 fits\n",
        "\n",
        "Melhores parâmetros: {'classifier__colsample_bytree': 0.9, 'classifier__learning_rate': 0.05, 'classifier__max_depth': 7, 'classifier__reg_alpha': 0, 'classifier__reg_lambda': 1, 'classifier__subsample': 0.8}\n",
        "\n",
        "Melhor score (F1) de validação cruzada: **0.5474**\n",
        "\n",
        "Tempo de execução do GridSearch: **95.75** segundos"
      ],
      "metadata": {
        "id": "dd1Gt2sDxdY1"
      }
    },
    {
      "cell_type": "markdown",
      "source": [
        "#### Teste com n_splits = 5  |  ✅Melhor resultado (**F1-Score = 0.5542**)\n",
        "\n",
        "parâmetros para o grid:\n",
        "\n",
        "'classifier__max_depth': [3, 7]\n",
        "\n",
        "'classifier__learning_rate': [0.05, 0.1]\n",
        "\n",
        "'classifier__subsample': [0.8, 1.0]\n",
        "\n",
        "'classifier__colsample_bytree': [0.9]\n",
        "\n",
        "'classifier__reg_alpha': [0, 1]\n",
        "\n",
        "'classifier__reg_lambda': [1]\n",
        "\n",
        "\n",
        "---\n",
        "\n",
        "\n",
        "Fitting 5 folds for each of 16 candidates, totalling 80 fits\n",
        "\n",
        "Melhores parâmetros: {'classifier__colsample_bytree': 0.9, 'classifier__learning_rate': 0.1, 'classifier__max_depth': 7, 'classifier__reg_alpha': 1, 'classifier__reg_lambda': 1, 'classifier__subsample': 0.8}\n",
        "\n",
        "Melhor score (F1) de validação cruzada: **0.5542**\n",
        "\n",
        "Tempo de execução do GridSearch: **125.04** segundos"
      ],
      "metadata": {
        "id": "u3YPwES-xnvd"
      }
    },
    {
      "cell_type": "markdown",
      "source": [
        "#### Teste com n_splits = 6\n",
        "\n",
        "parâmetros para o grid:\n",
        "\n",
        "'classifier__max_depth': [3, 7]\n",
        "\n",
        "'classifier__learning_rate': [0.05, 0.1]\n",
        "\n",
        "'classifier__subsample': [0.8, 1.0]\n",
        "\n",
        "'classifier__colsample_bytree': [0.9]\n",
        "\n",
        "'classifier__reg_alpha': [0, 1]\n",
        "\n",
        "'classifier__reg_lambda': [1]\n",
        "\n",
        "\n",
        "---\n",
        "\n",
        "\n",
        "Fitting 6 folds for each of 16 candidates, totalling 96 fits\n",
        "\n",
        "Melhores parâmetros: {'classifier__colsample_bytree': 0.9, 'classifier__learning_rate': 0.05, 'classifier__max_depth': 7, 'classifier__reg_alpha': 0, 'classifier__reg_lambda': 1, 'classifier__subsample': 0.8}\n",
        "\n",
        "Melhor score (F1) de validação cruzada: **0.5519**\n",
        "\n",
        "Tempo de execução do GridSearch: **155.57** segundos"
      ],
      "metadata": {
        "id": "GNJ9dHCcxwNr"
      }
    },
    {
      "cell_type": "markdown",
      "source": [
        "# 8. Teste dos modelos e resultados finais\n",
        "\n",
        "Ajustados os modelos otimizados com seus devidos hiperparâmetros, é feita a comparação de suas performances em contraste com a performance do baseline usando F1-Score como métrica apropriada."
      ],
      "metadata": {
        "id": "EqfYQPTLr-e5"
      }
    },
    {
      "cell_type": "markdown",
      "source": [
        "## 8.1. Comparação dos modelos via métricas\n",
        "\n",
        "Aqui, os modelos escolhidos são comparados através das métrica estabelecidas no início do projeto com os (melhores) hiperparâmetros definidos na etapa do Gridsearch; junto com eles, o baseline para referência de melhora."
      ],
      "metadata": {
        "id": "aW6NmT1qCi7y"
      }
    },
    {
      "cell_type": "code",
      "source": [
        "# agregação dos 3 modelos em 1 variável a ser passada para a função de comparação\n",
        "modelos_para_comparacao = {\n",
        "    'Baseline': baseline_dc,\n",
        "    'LightGBM': grid_search_lgbm_fit.best_estimator_,\n",
        "    'XGBoost': grid_search_xgb_fit.best_estimator_\n",
        "}\n",
        "\n",
        "# execução da função de comparação de performance dos 3 modelos\n",
        "resultados = comparar_modelos(modelos_para_comparacao, X_test, y_test)"
      ],
      "metadata": {
        "id": "JFTYHaDysofg"
      },
      "execution_count": null,
      "outputs": []
    },
    {
      "cell_type": "markdown",
      "source": [
        "## 8.2. Estratificação das métricas do melhor modelo\n",
        "\n",
        "Por fim, são apresentadas as métricas do melhor modelo (segundo critérios estabelecidos) a fim de embasar e complementar as conclusões do projeto."
      ],
      "metadata": {
        "id": "8GVg6Sl1C40Y"
      }
    },
    {
      "cell_type": "code",
      "source": [
        "# identificação do melhor modelo para posterior plotagem da matriz de confusão\n",
        "melhor_modelo_nome = max(\n",
        "    {k: v for k, v in resultados.items() if v is not None},\n",
        "    key=lambda x: resultados[x]['f1']\n",
        ")\n",
        "\n",
        "# identificação do melhor modelo segundo métricas avaliadas\n",
        "melhor_modelo = modelos_para_comparacao[melhor_modelo_nome]\n",
        "\n",
        "# melhor y predito considerando X_test\n",
        "y_pred_melhor = melhor_modelo.predict(X_test)\n",
        "\n",
        "# print do melhor modelo\n",
        "print(f\"Melhor modelo: {melhor_modelo_nome} 🥇\\n\")\n",
        "\n",
        "# compilado de métricas para validação da performance do melhor modelo,\n",
        "# muito importante para dados desbalanceados\n",
        "print(classification_report(y_test, y_pred_melhor, target_names=['No', 'Yes']))\n",
        "\n",
        "# confusion matrix para visualização clara de positivos verdadeiros/falsos e\n",
        "# negativos verdadeiros/falsos\n",
        "cm = confusion_matrix(y_test, y_pred_melhor)\n",
        "sns.heatmap(cm, annot=True, fmt='d', cmap='Blues')\n",
        "plt.title('Matriz de Confusão')\n",
        "plt.ylabel('Real')\n",
        "plt.xlabel('Predito')\n",
        "plt.show()"
      ],
      "metadata": {
        "id": "2soXnrm0PHYk"
      },
      "execution_count": null,
      "outputs": []
    },
    {
      "cell_type": "markdown",
      "source": [
        "# 9. Conclusão\n",
        "\n",
        "Conforme constatado na seção de Análise Exploratória de Dados, algumas das dimensões estão altamente desbalanceadas e precisaram de tratamento para que fossem adequadamente avaliados pelos modelos. Nesse sentido, após várias execuções do código, entendo que as etapas de pré-processamento e dos treinamentos com folds e cross-validation foram importantes para diminuir data leakage e proporcionar simetria de condições para que os modelos pudessem ser testados adequadamente, garantindo reprodutibilidade suficiente para futuro desenvolvimento."
      ],
      "metadata": {
        "id": "QAhY3qoEr7aw"
      }
    },
    {
      "cell_type": "markdown",
      "source": [
        "## 9.1. Resultados encontrados\n",
        "\n",
        "Após várias rodadas de execução do código, tanto na parte de otimização de hiperparâmetros dos modelos quanto do baseline, cheguei a números importantes das métricas utilizadas para comparação dos modelos:\n",
        "\n",
        "*   **F1-Score**: em comparação à pontuação do baseline (0.1126), os modelos conseguiram alcançar números de 5 a 6x maiores (0.6010 para LightGBM e 0.5546 para XGBoost). Essas pontuações, segundo pesquisa de competições de top scores públicos no Kaggle, ficam relativamente próximas do SOTA de 0.648 para esse dataset.\n",
        "\n",
        "*   **Auc-Roc**: em comparação à pontuação do baseline (0.4970), os modelos conseguiram alcançar números quase 2x maiores (0.9233 para LightGBM e 0.9338 para XGBoost), muito próximos de 1.\n",
        "\n",
        "*   **Precision**: em comparação à pontuação do baseline (0.1115), os modelos conseguiram alcançar números de 5 a 6x maiores (0.5250 para LightGBM e 0.6711 para XGBoost). Destaque para XGB pela performance consideravelmente melhor que LGBM.\n",
        "\n",
        "*   **Recall**: em comparação à pontuação do baseline (0.1068), os modelos conseguiram alcançar números de 4 a 7x maiores (0.7250 para LightGBM e 0.4726 para XGBoost). Ponto positivo para LGBM com performance substancialmente melhor que XGB.\n",
        "\n",
        "*   **Balanced Accuracy**: em comparação à pontuação do baseline (0.4970), os modelos conseguiram alcançar números quase 2x maiores (0.8190 para LightGBM e 0.7210 para XGBoost). Mais um ponto pra LGBM.\n",
        "\n",
        "Apesar de ser possível obter melhores resultados para as métricas, entendo que o trade-off com o tempo necessário de processamento não seria viável para o desenvolvimento desse projeto em específico; contudo, acredito que possa valer a pena em um ambiente real de aplicação no negócio.\n",
        "\n",
        "Já com relação aos modelos escolhidos, entendo que tenham correspondido satisfatoriamente ao desafio proposto. Com parâmetros relativamente menos robustos, ambos foram capazes de superar muito o baseline a um custo baixo de processamento computacional.\n",
        "\n",
        "Nesse sentido, é válido afirmar que, mesmo com preparações e otimizações de complexidade não tão alta, o projeto é viável do ponto de vista de negócio e pode ser aprimorado para que seja implementado, de fato."
      ],
      "metadata": {
        "id": "w7LZzazKxnsl"
      }
    },
    {
      "cell_type": "markdown",
      "source": [
        "## 9.2. Desafios do desenvolvimento\n",
        "\n",
        "Durante o desenvolvimento desse projeto, tive alguns problemas maiores e que minaram sua progressão em diferentes níveis:\n",
        "\n",
        "*   Seleção dos modelos que fariam a composição do projeto\n",
        "*   Tempo hábil para deixar o projeto mais robusto possível, considerando o tempo disponível e o nível inicial de entendimento do tema tratado\n",
        "*   Construção dos pipelines do baseline e dos modelos: dificuldade na seleção dos parâmetros mais indicados para esse tipo de problema\n",
        "*   Modelos de otimização: dificuldade na seleção dos parâmetros mais indicados e no seu dimensionamento (quantidade e quais árvores em ambos os modelos, por exemplo)\n",
        "*   Entendimento da importância de cada métrica para o tipo de problema e como validar a importância de cada uma\n",
        "*   Construção da função para retorno da análise das métricas de performance dos modelos\n",
        "*   Interpretação da matriz de confusão"
      ],
      "metadata": {
        "id": "JIkFmURUyEWo"
      }
    },
    {
      "cell_type": "markdown",
      "source": [
        "## 9.3. Melhorias futuras\n",
        "\n",
        "Através de pesquisas sobre melhores práticas, identiquei alguns pontos de melhorias futuras para aprimorar os modelos:\n",
        "\n",
        "*   Utilizar mais análises voltadas ao tema do projeto, que possam fazer sentido em conjunto com as métricas avaliadas e trazer ganhos ao negócio, como Lift Score\n",
        "*   Avaliar possibilidade de usar Feature Selection, como SelectKBest e RFE\n",
        "*   Aumentar as combinações no gridsearch de ambos os modelos (o tempo de processamento - que estava chegando em quase 1h por execução do código - inviabilizou testes nesse sentido)\n",
        "*   Testar o CatBoost para validar seus achados com os modelos presentes nesse projeto; em pesquisas, validei que também pode ser um bom algoritmo (tão bom quanto os 2 validados aqui)\n",
        "*   Utilizar o conceito de Ensemble Híbrido para unir o melhor dos mundos, incluindo também Random Forest"
      ],
      "metadata": {
        "id": "sLghYgfIyI-O"
      }
    }
  ]
}